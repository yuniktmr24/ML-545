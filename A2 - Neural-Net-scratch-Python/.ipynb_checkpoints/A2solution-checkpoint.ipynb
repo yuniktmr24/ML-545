{
 "cells": [
  {
   "cell_type": "markdown",
   "metadata": {},
   "source": [
    "# A2: NeuralNetwork Class"
   ]
  },
  {
   "cell_type": "markdown",
   "metadata": {},
   "source": [
    "## Requirements"
   ]
  },
  {
   "cell_type": "markdown",
   "metadata": {},
   "source": [
    "In this assignment, you will complete the implementation of the `NeuralNetwork` class, starting with the code included in the `05` and `06` lecture notes.  First, define your `NeuralNetwork` class to include just one hidden layer, as done in notes `05`.  Follow these steps:\n",
    "\n",
    "\n",
    "* Define the `__init__` function to accept three arguments, the number of inputs in each sample (columns of `X`), the number of units in the hidden layer, and the number of outputs of the output layer, and\n",
    "    * assign these values to member variables `self.n_inputs`, `self.n_hiddens`, and `self.n_outputs`,\n",
    "    * initialize a weight matrix for each layer and store them in a list in `self.Ws`, and\n",
    "    * initialize `self.rmse_trace` to an empty list.\n",
    "* Define the `_forward(self, X)` function that returns the output of the network, `Y`, in standardized form and create `self.Zs` as a list consisting of the input `X` and the outputs of the hidden layer.\n",
    "* Define  the `_gradients(self, X, T)` function that returns the gradients of the mean square error with respect to the weights in each layer.\n",
    "* Define `_calc_rmse_standardized` as shown in notes 05.\n",
    "* Define the `train(self, Xtrain, Ttrain, Xtest, Ttest, n_epochs, learning_rate)` function that\n",
    "    * standardizes `Xtrain` and `Ttrain` and saves the standardization parameters (means and stds) in member variables, `self.X_means`, `self.X_stds`, `self.T_means` and `self.T_stds`,\n",
    "    * standardizes `Xtest` and `Ttest` using `self.X_means`, `self.X_stds`, `self.T_means` and `self.T_stds`,\n",
    "    * loops for `n_epochs` as shown in notes `05` and for each loop,\n",
    "        * uses the `_forward` function to calculate the outputs of all units,\n",
    "        * uses the `_gradients` function to calculate the gradient of the the mean squared error respect to all weight matrices,\n",
    "        * updates all weight matrices, and\n",
    "        * calculates the RMSE for train and test data and appends these values to `self.rmse_trace`\n",
    "* Define `use(self, X)` that\n",
    "    * standardizes `X` using the standardization member variables,\n",
    "    * calls `_forward` to calculate the outputs of all units,\n",
    "    * unstandardizes the outputs of the network, and\n",
    "    * returns these outputs.\n",
    "* You may choose to define other functions, such as `_add_ones`, to be called by the functions above. Remember to name functions with a leading `_` that are not meant to be called by the users of your `NeuralNetwork` class.\n",
    "\n",
    "No test your implementation. You may use the same example data as used in notes `05`. When you are happy with your test results:\n",
    "\n",
    "* Copy your `NeuralNetwork` class code cell, and paste it after the code cells you used to test your one-hidden layer `NeuralNetwork` class.\n",
    "* Modify the code in this new cell to allow any number of hidden layers, including no hidden layers specified by an empty list as `[]`. <font color='red'>Don't forget this case.</font> The constructor, `__init__`, must now accept a list of numbers of units in each hidden layer, rather than just a single number of units. The length of this list determines the number of hidden layers.\n",
    "\n",
    "See the following examples for more details. Then,\n",
    "\n",
    "* Apply your `NeuralNetwork` class to the problem of predicting the value of houses in Boston as described below."
   ]
  },
  {
   "cell_type": "code",
   "execution_count": 8,
   "metadata": {
    "ExecuteTime": {
     "end_time": "2022-09-16T20:44:32.564986Z",
     "start_time": "2022-09-16T20:44:32.561771Z"
    }
   },
   "outputs": [],
   "source": [
    "import numpy as np\n",
    "import matplotlib.pyplot as plt\n",
    "\n",
    "import IPython.display as ipd  # for display and clear_output\n",
    "import time"
   ]
  },
  {
   "cell_type": "markdown",
   "metadata": {},
   "source": [
    "## First Version of the `NeuralNetwork` Class - One Hidden Layer"
   ]
  },
  {
   "cell_type": "markdown",
   "metadata": {},
   "source": [
    "In this next code cell, I add a new method to your class that replaces the weights created in your constructor with non-random values to allow you to compare your results with mine, and to allow our grading scripts to work well."
   ]
  },
  {
   "cell_type": "code",
   "execution_count": 9,
   "metadata": {
    "ExecuteTime": {
     "end_time": "2022-09-16T20:44:32.594067Z",
     "start_time": "2022-09-16T20:44:32.590678Z"
    }
   },
   "outputs": [],
   "source": [
    "def set_weights_for_testing(self):\n",
    "    for W in self.Ws[:-1]:   # leave output layer weights at zero\n",
    "        n_weights = W.shape[0] * W.shape[1]\n",
    "        W[:] = np.linspace(-0.01, 0.01, n_weights).reshape(W.shape)\n",
    "        for u in range(W.shape[1]):\n",
    "            W[:, u] += (u - W.shape[1]/2) * 0.2\n",
    "    # Set output layer weights to zero\n",
    "    self.Ws[-1][:] = 0\n",
    "    print('Weights set for testing by calling set_weights_for_testing()')\n",
    "\n",
    "setattr(NeuralNetwork, 'set_weights_for_testing', set_weights_for_testing)"
   ]
  },
  {
   "cell_type": "markdown",
   "metadata": {},
   "source": [
    "## Second Version of the `NeuralNetwork` Class - Multiple Hidden Layers"
   ]
  },
  {
   "cell_type": "markdown",
   "metadata": {},
   "source": [
    "When your second version is working, you may delete the above code cell that defines your first version of `NeuralNetwork`."
   ]
  },
  {
   "cell_type": "code",
   "execution_count": 262,
   "metadata": {
    "ExecuteTime": {
     "end_time": "2022-09-16T20:44:32.574691Z",
     "start_time": "2022-09-16T20:44:32.566777Z"
    }
   },
   "outputs": [],
   "source": [
    "# insert your NeuralNetwork class definition here.  This will be a large code cell when you are done!\n",
    "class NeuralNetwork:\n",
    "\n",
    "    def __init__(self, n_inputs_sample, n_hiddens_each_layer, n_outputs):\n",
    "      self.n_inputs = n_inputs_sample\n",
    "      self.n_hiddens_each_layer = n_hiddens_each_layer\n",
    "      self.n_outputs = n_outputs\n",
    "      self.Zs = []\n",
    "      self.rmse = None\n",
    "      # initialize weight matrices for each hidden layer\n",
    "      self.Ws = []\n",
    "      self.n_epochs = None\n",
    "      ni = self.n_inputs\n",
    "      for nu in self.n_hiddens_each_layer:\n",
    "        self.Ws.append(np.random.uniform(-1, 1, size=(1 + ni, nu)) / np.sqrt(1 + ni))\n",
    "        ni = nu\n",
    "\n",
    "      #for output layer\n",
    "      nu = self.n_outputs\n",
    "      self.Ws.append(np.random.uniform(-1, 1, size=(1+ni, nu)) / np.sqrt(1+ni))\n",
    "\n",
    "      self.rmse_trace = []\n",
    "\n",
    "\n",
    "    def _add_ones(self, A):\n",
    "        return np.insert(A, 0, 1, axis=1)\n",
    "\n",
    "    def _forward(self, X):\n",
    "      #clear the list of activations\n",
    "      self.Zs = []\n",
    "      self.Zs.append(X) #input append\n",
    "      #activations\n",
    "      for i in range(len(self.Ws) - 1):\n",
    "        z = np.tanh(self._add_ones(self.Zs[i]) @ self.Ws[i])\n",
    "        self.Zs.append(z)\n",
    "      #adding the output layer without any activations functions applied\n",
    "      Y = self._add_ones(self.Zs[-1]) @ self.Ws[-1]\n",
    "      self.Zs.append(Y)\n",
    "\n",
    "      return Y  \n",
    "    \n",
    "\n",
    "    def _gradients(self, X, T):\n",
    "        gradients = []\n",
    "        delta = T - self.Zs[-1] #first delta is target - output\n",
    "        for w in range(len(self.Ws) - 1, -1, -1):\n",
    "            Z = self.Zs[w]\n",
    "            gradients.append(-self._add_ones(Z).T @ delta)\n",
    "            delta = (delta @ self.Ws[w][1:, :].T) * (1 - Z ** 2)\n",
    "        return gradients\n",
    "\n",
    "    def _calc_rmse_standardized(self,T,Y):    \n",
    "      return np.sqrt(np.mean(((T - Y)) ** 2))\n",
    "\n",
    "    def train(self, Xtrain, Ttrain, Xtest, Ttest, n_epochs, learning_rate):\n",
    "      self.n_epochs = n_epochs\n",
    "      self.X_means = Xtrain.mean(axis=0)\n",
    "      self.X_stds = Xtrain.std(axis=0)\n",
    "      self.T_means = Ttrain.mean(axis=0)\n",
    "      self.T_stds = Ttrain.std(axis=0)\n",
    "\n",
    "      n_samples, n_outputs = Ttrain.shape\n",
    "      rho = (learning_rate) / (n_samples * n_outputs) \n",
    "        \n",
    "      # standardized parameters\n",
    "      XtrainS = (Xtrain - self.X_means) / self.X_stds\n",
    "      TtrainS = (Ttrain - self.T_means) / self.T_stds\n",
    "      XtestS = (Xtest - self.X_means) / self.X_stds\n",
    "      TtestS = (Ttest - self.T_means) / self.T_stds\n",
    "\n",
    "      i = 0\n",
    "      \n",
    "      for epoch in range(n_epochs):\n",
    "        YTrainS = self._forward(XtrainS)\n",
    "          \n",
    "        gradients = self._gradients(XtrainS,TtrainS)\n",
    "        gradients.reverse() \n",
    "\n",
    "        # w = 0\n",
    "        # for (weight, gradient) in zip(self.Ws, gradients):\n",
    "        #     self.Ws[w] -= rho * gradient\n",
    "        #     w += 1\n",
    "        for w in range(len(self.Ws)):\n",
    "          self.Ws[w] -= rho * gradients[w]\n",
    "        # # calculate rmse for train and test data\n",
    "        YTestS = self._forward(XtestS)\n",
    "        self.rmse_trace.append([self._calc_rmse_standardized(TtrainS, YTrainS),\n",
    "                        self._calc_rmse_standardized(TtestS, YTestS)])\n",
    "        #print(\"Train Error: {} , Test Error {} at epoch {}\".format(self.rmse_trace[i][0], self.rmse_trace[i][1], i))\n",
    "        i = i+1\n",
    "      print(self.__repr__())\n",
    "          \n",
    "    def  use(self, X):\n",
    "      # standardize input\n",
    "      Xs = (X - self.X_means) / self.X_stds\n",
    "      # call forward to calculate output of all units and final standardized output\n",
    "      Ys = self._forward(Xs)\n",
    "      # unstandardize Y\n",
    "      Y = Ys * self.T_stds + self.T_means\n",
    "      return Y\n",
    "\n",
    "    def __repr__(self):\n",
    "        return f'NeuralNetwork({self.n_inputs}, {self.n_hiddens_each_layer}, {self.n_outputs})'\n",
    "     \n",
    "    def __str__(self):\n",
    "        if self.n_epochs is not None:\n",
    "            return f'{self.__repr__()} trained for {self.n_epochs} epochs with a final RMSE of {self.rmse}.'   \n",
    "        else:\n",
    "            return f'{self.__repr__()} has not been trained.'"
   ]
  },
  {
   "cell_type": "code",
   "execution_count": 263,
   "metadata": {},
   "outputs": [],
   "source": [
    "# If you first develop your `NeuralNetwork` class in a python script file, named `A2mysolution.py`, \n",
    "# you can import it here for testing.\n",
    "# Before you check in your notebook, copy and paste the whole `NeuralNetwork` class definition in the\n",
    "# above cell, and delete this cell.\n",
    "\n",
    "# from A2mysolution import NeuralNetwork"
   ]
  },
  {
   "cell_type": "code",
   "execution_count": 264,
   "metadata": {},
   "outputs": [],
   "source": [
    "def set_weights_for_testing(self):\n",
    "    for W in self.Ws[:-1]:   # leave output layer weights at zero\n",
    "        n_weights = W.shape[0] * W.shape[1]\n",
    "        W[:] = np.linspace(-0.01, 0.01, n_weights).reshape(W.shape)\n",
    "        for u in range(W.shape[1]):\n",
    "            W[:, u] += (u - W.shape[1]/2) * 0.2\n",
    "    # Set output layer weights to zero\n",
    "    self.Ws[-1][:] = 0\n",
    "    print('Weights set for testing by calling set_weights_for_testing()')\n",
    "\n",
    "setattr(NeuralNetwork, 'set_weights_for_testing', set_weights_for_testing)"
   ]
  },
  {
   "cell_type": "markdown",
   "metadata": {},
   "source": [
    "## Example Results"
   ]
  },
  {
   "cell_type": "markdown",
   "metadata": {},
   "source": [
    "Here we test your new `NeuralNetwork` class that allows 0, 1, 2, or more hidden layers with some simple data.  \n"
   ]
  },
  {
   "cell_type": "code",
   "execution_count": 265,
   "metadata": {
    "ExecuteTime": {
     "end_time": "2022-09-16T20:44:32.604006Z",
     "start_time": "2022-09-16T20:44:32.595320Z"
    }
   },
   "outputs": [
    {
     "data": {
      "text/plain": [
       "((100, 1), (100, 1))"
      ]
     },
     "execution_count": 265,
     "metadata": {},
     "output_type": "execute_result"
    }
   ],
   "source": [
    "X = np.arange(0, 10, 0.1).reshape(-1, 1)\n",
    "T = np.sin(X) + 0.01 * (X ** 2)\n",
    "X.shape, T.shape"
   ]
  },
  {
   "cell_type": "code",
   "execution_count": 266,
   "metadata": {},
   "outputs": [
    {
     "name": "stdout",
     "output_type": "stream",
     "text": [
      "Xtrain.shape=(80, 1) Ttrain.shape=(80, 1) Xtest.shape=(20, 1) Ttest.shape=(20, 1)\n"
     ]
    }
   ],
   "source": [
    "# Collect every 5th sample as the test set.\n",
    "test_rows = np.arange(0, X.shape[0], 5)\n",
    "# All remaining samples are in the train set.\n",
    "train_rows = np.setdiff1d(np.arange(X.shape[0]), test_rows)\n",
    "\n",
    "Xtrain = X[train_rows, :]\n",
    "Ttrain = T[train_rows, :]\n",
    "Xtest = X[test_rows, :]\n",
    "Ttest = T[test_rows, :]\n",
    "\n",
    "print(f'{Xtrain.shape=} {Ttrain.shape=} {Xtest.shape=} {Ttest.shape=}')"
   ]
  },
  {
   "cell_type": "code",
   "execution_count": 267,
   "metadata": {
    "ExecuteTime": {
     "end_time": "2022-09-16T20:44:32.692241Z",
     "start_time": "2022-09-16T20:44:32.605307Z"
    }
   },
   "outputs": [
    {
     "data": {
      "image/png": "[encoded data removed]",
      "text/plain": [
       "<Figure size 640x480 with 1 Axes>"
      ]
     },
     "metadata": {},
     "output_type": "display_data"
    }
   ],
   "source": [
    "plt.plot(Xtrain, Ttrain, 'o', label='Train')\n",
    "plt.plot(Xtest, Ttest, 'o', label='Test')\n",
    "plt.legend();"
   ]
  },
  {
   "cell_type": "code",
   "execution_count": 268,
   "metadata": {
    "ExecuteTime": {
     "end_time": "2022-09-16T20:44:32.697052Z",
     "start_time": "2022-09-16T20:44:32.693526Z"
    }
   },
   "outputs": [
    {
     "data": {
      "text/plain": [
       "NeuralNetwork(1, [3, 2], 1)"
      ]
     },
     "execution_count": 268,
     "metadata": {},
     "output_type": "execute_result"
    }
   ],
   "source": [
    "n_inputs = X.shape[1]\n",
    "n_outputs = T.shape[1]\n",
    "\n",
    "nnet = NeuralNetwork(n_inputs, [3, 2], n_outputs)\n",
    "nnet"
   ]
  },
  {
   "cell_type": "code",
   "execution_count": 269,
   "metadata": {
    "ExecuteTime": {
     "end_time": "2022-09-16T20:44:32.705672Z",
     "start_time": "2022-09-16T20:44:32.698197Z"
    }
   },
   "outputs": [
    {
     "data": {
      "text/plain": [
       "(1, [3, 2], 1)"
      ]
     },
     "execution_count": 269,
     "metadata": {},
     "output_type": "execute_result"
    }
   ],
   "source": [
    "nnet.n_inputs, nnet.n_hiddens_each_layer, nnet.n_outputs"
   ]
  },
  {
   "cell_type": "code",
   "execution_count": 270,
   "metadata": {
    "ExecuteTime": {
     "end_time": "2022-09-16T20:44:32.714071Z",
     "start_time": "2022-09-16T20:44:32.708215Z"
    }
   },
   "outputs": [
    {
     "data": {
      "text/plain": [
       "[]"
      ]
     },
     "execution_count": 270,
     "metadata": {},
     "output_type": "execute_result"
    }
   ],
   "source": [
    "nnet.rmse_trace"
   ]
  },
  {
   "cell_type": "code",
   "execution_count": 271,
   "metadata": {
    "ExecuteTime": {
     "end_time": "2022-09-16T20:44:32.723578Z",
     "start_time": "2022-09-16T20:44:32.715275Z"
    }
   },
   "outputs": [
    {
     "data": {
      "text/plain": [
       "[array([[-0.51425527,  0.14815445,  0.17538055],\n",
       "        [-0.64008533, -0.1007005 , -0.42993194]]),\n",
       " array([[ 0.34886756,  0.13179457],\n",
       "        [ 0.14090275, -0.2861702 ],\n",
       "        [ 0.22348654, -0.1440101 ],\n",
       "        [-0.1289727 , -0.02388652]]),\n",
       " array([[0.01385946],\n",
       "        [0.26565871],\n",
       "        [0.28938403]])]"
      ]
     },
     "execution_count": 271,
     "metadata": {},
     "output_type": "execute_result"
    }
   ],
   "source": [
    "nnet.Ws"
   ]
  },
  {
   "cell_type": "code",
   "execution_count": 272,
   "metadata": {
    "ExecuteTime": {
     "end_time": "2022-09-16T20:44:32.732243Z",
     "start_time": "2022-09-16T20:44:32.724790Z"
    }
   },
   "outputs": [
    {
     "name": "stdout",
     "output_type": "stream",
     "text": [
      "Weights set for testing by calling set_weights_for_testing()\n"
     ]
    }
   ],
   "source": [
    "nnet.set_weights_for_testing()"
   ]
  },
  {
   "cell_type": "code",
   "execution_count": 273,
   "metadata": {
    "ExecuteTime": {
     "end_time": "2022-09-16T20:44:32.741699Z",
     "start_time": "2022-09-16T20:44:32.733644Z"
    }
   },
   "outputs": [
    {
     "data": {
      "text/plain": [
       "[array([[-0.31 , -0.106,  0.098],\n",
       "        [-0.298, -0.094,  0.11 ]]),\n",
       " array([[-0.21      , -0.00714286],\n",
       "        [-0.20428571, -0.00142857],\n",
       "        [-0.19857143,  0.00428571],\n",
       "        [-0.19285714,  0.01      ]]),\n",
       " array([[0.],\n",
       "        [0.],\n",
       "        [0.]])]"
      ]
     },
     "execution_count": 273,
     "metadata": {},
     "output_type": "execute_result"
    }
   ],
   "source": [
    "nnet.Ws"
   ]
  },
  {
   "cell_type": "code",
   "execution_count": 274,
   "metadata": {},
   "outputs": [
    {
     "name": "stdout",
     "output_type": "stream",
     "text": [
      "NeuralNetwork(1, [3, 2], 1)\n"
     ]
    }
   ],
   "source": [
    "nnet.train(Xtrain, Ttrain, Xtest, Ttest, n_epochs=1, learning_rate=0.1)"
   ]
  },
  {
   "cell_type": "code",
   "execution_count": 275,
   "metadata": {
    "ExecuteTime": {
     "end_time": "2022-09-16T20:44:32.760663Z",
     "start_time": "2022-09-16T20:44:32.751976Z"
    }
   },
   "outputs": [
    {
     "data": {
      "text/plain": [
       "[array([[-1.73291748],\n",
       "        [-1.55962573],\n",
       "        [-1.38633399],\n",
       "        [-1.21304224],\n",
       "        [-1.03975049],\n",
       "        [-0.86645874],\n",
       "        [-0.69316699],\n",
       "        [-0.51987524],\n",
       "        [-0.3465835 ],\n",
       "        [-0.17329175],\n",
       "        [ 0.        ],\n",
       "        [ 0.17329175],\n",
       "        [ 0.3465835 ],\n",
       "        [ 0.51987524],\n",
       "        [ 0.69316699],\n",
       "        [ 0.86645874],\n",
       "        [ 1.03975049],\n",
       "        [ 1.21304224],\n",
       "        [ 1.38633399],\n",
       "        [ 1.55962573]]),\n",
       " array([[ 2.03527172e-01,  5.68329348e-02, -9.23569751e-02],\n",
       "        [ 1.53544458e-01,  4.05825180e-02, -7.34264441e-02],\n",
       "        [ 1.02763480e-01,  2.43106038e-02, -5.44428527e-02],\n",
       "        [ 5.14411404e-02,  8.02579805e-03, -3.54198229e-02],\n",
       "        [-1.54354032e-04, -8.26326587e-03, -1.63710911e-02],\n",
       "        [-5.17490267e-02, -2.45479456e-02,  2.68953195e-03],\n",
       "        [-1.03068918e-01, -4.08196082e-02,  2.17482009e-02],\n",
       "        [-1.53845874e-01, -5.70696481e-02,  4.07910762e-02],\n",
       "        [-2.03823074e-01, -7.32895056e-02,  5.98043640e-02],\n",
       "        [-2.52760066e-01, -8.94706847e-02,  7.87743562e-02],\n",
       "        [-3.00437097e-01, -1.05604771e-01,  9.76874699e-02],\n",
       "        [-3.46658600e-01, -1.21683448e-01,  1.16530286e-01],\n",
       "        [-3.91255732e-01, -1.37698517e-01,  1.35289586e-01],\n",
       "        [-4.34087939e-01, -1.53641907e-01,  1.53952389e-01],\n",
       "        [-4.75043566e-01, -1.69505700e-01,  1.72505989e-01],\n",
       "        [-5.14039585e-01, -1.85282137e-01,  1.90937983e-01],\n",
       "        [-5.51020549e-01, -2.00963638e-01,  2.09236306e-01],\n",
       "        [-5.85956907e-01, -2.16542814e-01,  2.27389262e-01],\n",
       "        [-6.18842828e-01, -2.32012479e-01,  2.45385547e-01],\n",
       "        [-6.49693682e-01, -2.47365664e-01,  2.63214279e-01]]),\n",
       " array([[-0.24026129, -0.00811343],\n",
       "        [-0.23101806, -0.00792238],\n",
       "        [-0.22158355, -0.00772975],\n",
       "        [-0.21200657, -0.007536  ],\n",
       "        [-0.20233913, -0.00734163],\n",
       "        [-0.19263529, -0.00714712],\n",
       "        [-0.18295003, -0.00695296],\n",
       "        [-0.17333791, -0.00675965],\n",
       "        [-0.16385194, -0.00656764],\n",
       "        [-0.15454234, -0.00637739],\n",
       "        [-0.14545559, -0.0061893 ],\n",
       "        [-0.13663353, -0.00600376],\n",
       "        [-0.12811273, -0.0058211 ],\n",
       "        [-0.11992404, -0.00564161],\n",
       "        [-0.11209237, -0.00546556],\n",
       "        [-0.10463666, -0.00529315],\n",
       "        [-0.09757005, -0.00512455],\n",
       "        [-0.09090019, -0.00495988],\n",
       "        [-0.08462964, -0.00479924],\n",
       "        [-0.07875642, -0.00464269]]),\n",
       " array([[-0.00035099],\n",
       "        [-0.00033749],\n",
       "        [-0.00032372],\n",
       "        [-0.00030973],\n",
       "        [-0.00029561],\n",
       "        [-0.00028144],\n",
       "        [-0.00026729],\n",
       "        [-0.00025326],\n",
       "        [-0.0002394 ],\n",
       "        [-0.00022581],\n",
       "        [-0.00021254],\n",
       "        [-0.00019965],\n",
       "        [-0.00018721],\n",
       "        [-0.00017525],\n",
       "        [-0.00016381],\n",
       "        [-0.00015292],\n",
       "        [-0.0001426 ],\n",
       "        [-0.00013286],\n",
       "        [-0.0001237 ],\n",
       "        [-0.00011512]])]"
      ]
     },
     "execution_count": 275,
     "metadata": {},
     "output_type": "execute_result"
    }
   ],
   "source": [
    "nnet.Zs"
   ]
  },
  {
   "cell_type": "markdown",
   "metadata": {},
   "source": [
    "Why only 20 rows in these matrices?  I thought I had 80 training samples!"
   ]
  },
  {
   "cell_type": "code",
   "execution_count": 276,
   "metadata": {
    "ExecuteTime": {
     "end_time": "2022-09-16T20:44:32.770833Z",
     "start_time": "2022-09-16T20:44:32.761926Z"
    }
   },
   "outputs": [
    {
     "name": "stdout",
     "output_type": "stream",
     "text": [
      "NeuralNetwork(1, [3, 2], 1) trained for 1 epochs with a final RMSE of None.\n"
     ]
    }
   ],
   "source": [
    "print(nnet)"
   ]
  },
  {
   "cell_type": "code",
   "execution_count": 277,
   "metadata": {
    "ExecuteTime": {
     "end_time": "2022-09-16T20:44:32.780487Z",
     "start_time": "2022-09-16T20:44:32.772376Z"
    }
   },
   "outputs": [
    {
     "data": {
      "text/plain": [
       "(array([5.]), array([2.88530761]))"
      ]
     },
     "execution_count": 277,
     "metadata": {},
     "output_type": "execute_result"
    }
   ],
   "source": [
    "nnet.X_means, nnet.X_stds"
   ]
  },
  {
   "cell_type": "code",
   "execution_count": 278,
   "metadata": {
    "ExecuteTime": {
     "end_time": "2022-09-16T20:44:32.791055Z",
     "start_time": "2022-09-16T20:44:32.781837Z"
    }
   },
   "outputs": [
    {
     "data": {
      "text/plain": [
       "(array([0.51792742]), array([0.74017845]))"
      ]
     },
     "execution_count": 278,
     "metadata": {},
     "output_type": "execute_result"
    }
   ],
   "source": [
    "nnet.T_means, nnet.T_stds"
   ]
  },
  {
   "cell_type": "code",
   "execution_count": 279,
   "metadata": {
    "ExecuteTime": {
     "end_time": "2022-09-16T20:44:32.801409Z",
     "start_time": "2022-09-16T20:44:32.792391Z"
    }
   },
   "outputs": [
    {
     "data": {
      "text/plain": [
       "[(20, 1), (20, 3), (20, 2), (20, 1)]"
      ]
     },
     "execution_count": 279,
     "metadata": {},
     "output_type": "execute_result"
    }
   ],
   "source": [
    "[Z.shape for Z in nnet.Zs]"
   ]
  },
  {
   "cell_type": "code",
   "execution_count": 280,
   "metadata": {
    "ExecuteTime": {
     "end_time": "2022-09-16T20:44:32.811612Z",
     "start_time": "2022-09-16T20:44:32.802921Z"
    }
   },
   "outputs": [
    {
     "data": {
      "text/plain": [
       "[array([[-0.31 , -0.106,  0.098],\n",
       "        [-0.298, -0.094,  0.11 ]]),\n",
       " array([[-0.21      , -0.00714286],\n",
       "        [-0.20428571, -0.00142857],\n",
       "        [-0.19857143,  0.00428571],\n",
       "        [-0.19285714,  0.01      ]]),\n",
       " array([[5.27464357e-18],\n",
       "        [1.45977062e-03],\n",
       "        [3.30068017e-05]])]"
      ]
     },
     "execution_count": 280,
     "metadata": {},
     "output_type": "execute_result"
    }
   ],
   "source": [
    "nnet.Ws"
   ]
  },
  {
   "cell_type": "code",
   "execution_count": 281,
   "metadata": {
    "ExecuteTime": {
     "end_time": "2022-09-16T20:44:32.822303Z",
     "start_time": "2022-09-16T20:44:32.813047Z"
    }
   },
   "outputs": [
    {
     "data": {
      "text/plain": [
       "['T_means',\n",
       " 'T_stds',\n",
       " 'Ws',\n",
       " 'X_means',\n",
       " 'X_stds',\n",
       " 'Zs',\n",
       " '__class__',\n",
       " '__delattr__',\n",
       " '__dict__',\n",
       " '__dir__',\n",
       " '__doc__',\n",
       " '__eq__',\n",
       " '__format__',\n",
       " '__ge__',\n",
       " '__getattribute__',\n",
       " '__gt__',\n",
       " '__hash__',\n",
       " '__init__',\n",
       " '__init_subclass__',\n",
       " '__le__',\n",
       " '__lt__',\n",
       " '__module__',\n",
       " '__ne__',\n",
       " '__new__',\n",
       " '__reduce__',\n",
       " '__reduce_ex__',\n",
       " '__repr__',\n",
       " '__setattr__',\n",
       " '__sizeof__',\n",
       " '__str__',\n",
       " '__subclasshook__',\n",
       " '__weakref__',\n",
       " '_add_ones',\n",
       " '_calc_rmse_standardized',\n",
       " '_forward',\n",
       " '_gradients',\n",
       " 'n_epochs',\n",
       " 'n_hiddens_each_layer',\n",
       " 'n_inputs',\n",
       " 'n_outputs',\n",
       " 'rmse',\n",
       " 'rmse_trace',\n",
       " 'set_weights_for_testing',\n",
       " 'train',\n",
       " 'use']"
      ]
     },
     "execution_count": 281,
     "metadata": {},
     "output_type": "execute_result"
    }
   ],
   "source": [
    "dir(nnet)"
   ]
  },
  {
   "cell_type": "code",
   "execution_count": 282,
   "metadata": {},
   "outputs": [],
   "source": [
    "def plot_data_and_model(nnet, Xtrain, Ttrain, Xtest, Ttest):\n",
    "    plt.clf()        \n",
    "    plt.subplot(2, 1, 1)\n",
    "    plt.plot(nnet.rmse_trace)\n",
    "    plt.xlabel('Epoch')\n",
    "    plt.ylabel('RMSE')\n",
    "    plt.legend(('Train RMSE', 'Test RMSE'))\n",
    "                   \n",
    "    plt.subplot(2, 1, 2)\n",
    "    order = np.argsort(Xtrain, axis=0).flatten()\n",
    "    Xtrain = Xtrain[order]\n",
    "    Ttrain = Ttrain[order]\n",
    "    plt.plot(Xtrain, nnet.use(Xtrain), '-', label='Ytrain')\n",
    "    plt.plot(Xtrain, Ttrain, 'o', label='Ttrain', alpha=0.5)\n",
    "\n",
    "    order = np.argsort(Xtest, axis=0).flatten()\n",
    "    Xtest = Xtest[order]\n",
    "    Ttest = Ttest[order]\n",
    "    plt.plot(Xtest, nnet.use(Xtest), '-', label='Ytest')\n",
    "    plt.plot(Xtest, Ttest, 'o', label='Ttest', alpha=0.5)\n",
    "\n",
    "    plt.xlabel('X')\n",
    "    plt.ylabel('T or Y')\n",
    "    plt.legend();"
   ]
  },
  {
   "cell_type": "code",
   "execution_count": 283,
   "metadata": {},
   "outputs": [
    {
     "name": "stdout",
     "output_type": "stream",
     "text": [
      "[[0.00921971290728945, 0.011936811042418696], [0.009219229360978265, 0.011935673770855143], [0.009218746009543652, 0.01193453695859489], [0.009218262852863132, 0.011933400605404463], [0.009217779890814438, 0.011932264711050664], [0.009217297123275433, 0.011931129275300063], [0.00921681455012386, 0.011929994297919449], [0.009216332171237688, 0.011928859778676068], [0.009215849986495, 0.011927725717336949], [0.009215367995774021, 0.01192659211366942], [0.009214886198952913, 0.01192545896744087], [0.0092144045959099, 0.011924326278418601], [0.009213923186523337, 0.011923194046370855], [0.009213441970671782, 0.01192206227106461], [0.009212960948233751, 0.011920930952268687], [0.009212480119087865, 0.011919800089750581], [0.009211999483112798, 0.011918669683278286], [0.009211519040187334, 0.011917539732620636], [0.009211038790190433, 0.01191641023754607], [0.009210558733001084, 0.011915281197822833]]\n"
     ]
    },
    {
     "data": {
      "image/png": "[encoded data removed]",
      "text/plain": [
       "<Figure size 640x480 with 2 Axes>"
      ]
     },
     "metadata": {},
     "output_type": "display_data"
    }
   ],
   "source": [
    "X = np.arange(0, 10, 0.1).reshape(-1, 1)\n",
    "T = np.sin(X) + 0.01 * (X ** 2)\n",
    "\n",
    "# Collect every 5th sample as the test set.\n",
    "test_rows = np.arange(0, X.shape[0], 5)\n",
    "# All remaining samples are in the train set.\n",
    "train_rows = np.setdiff1d(np.arange(X.shape[0]), test_rows)\n",
    "\n",
    "Xtrain = X[train_rows, :]\n",
    "Ttrain = T[train_rows, :]\n",
    "Xtest = X[test_rows, :]\n",
    "Ttest = T[test_rows, :]\n",
    "\n",
    "print(f'{Xtrain.shape=} {Ttrain.shape=} {Xtest.shape=} {Ttest.shape=}')\n",
    "\n",
    "n_inputs = X.shape[1]\n",
    "n_outputs = T.shape[1]\n",
    "nnet = NeuralNetwork(n_inputs, [10, 5], n_outputs)\n",
    "nnet.set_weights_for_testing()\n",
    "\n",
    "n_epochs = 10000\n",
    "n_epochs_per_plot = 200\n",
    "fig = plt.figure()\n",
    "for reps in range(n_epochs // n_epochs_per_plot):\n",
    "    plt.clf()\n",
    "    nnet.train(Xtrain, Ttrain, Xtest, Ttest, n_epochs=n_epochs_per_plot, learning_rate=0.2)\n",
    "    plot_data_and_model(nnet, Xtrain, Ttrain, Xtest, Ttest)\n",
    "    ipd.clear_output(wait=True)\n",
    "    ipd.display(fig)\n",
    "ipd.clear_output(wait=True)\n",
    "print(nnet.rmse_trace[-20:])\n"
   ]
  },
  {
   "cell_type": "code",
   "execution_count": 288,
   "metadata": {},
   "outputs": [
    {
     "data": {
      "image/png": "[encoded data removed]",
      "text/plain": [
       "<Figure size 1000x800 with 2 Axes>"
      ]
     },
     "metadata": {},
     "output_type": "display_data"
    }
   ],
   "source": [
    "X = np.arange(-2, 2, 0.02).reshape(-1, 1)\n",
    "T = np.sin(X) * np.sin(X * 10)\n",
    "\n",
    "rows = np.arange(X.shape[0])\n",
    "np.random.shuffle(rows)\n",
    "ntrain = int(len(rows) * 0.7)\n",
    "\n",
    "Xtrain = X[rows[:ntrain], :]\n",
    "Ttrain = T[rows[:ntrain], :]\n",
    "Xtest = X[rows[ntrain:], :]\n",
    "Ttest = T[rows[ntrain:], :]\n",
    "\n",
    "print(f'{Xtrain.shape=} {Ttrain.shape=} {Xtest.shape=} {Ttest.shape=}')\n",
    "\n",
    "n_inputs = X.shape[1]\n",
    "n_outputs = T.shape[1]\n",
    "nnet = NeuralNetwork(n_inputs, [50, 10, 5], n_outputs)\n",
    "nnet.set_weights_for_testing()\n",
    "\n",
    "n_epochs = 80000\n",
    "n_epochs_per_plot = 1000\n",
    "\n",
    "fig = plt.figure(figsize=(10, 8))\n",
    "for reps in range(n_epochs // n_epochs_per_plot):\n",
    "    plt.clf()\n",
    "    nnet.train(Xtrain, Ttrain, Xtest, Ttest, n_epochs=n_epochs_per_plot, learning_rate=0.05)\n",
    "    plot_data_and_model(nnet, Xtrain, Ttrain, Xtest, Ttest)\n",
    "    ipd.clear_output(wait=True)\n",
    "    ipd.display(fig)\n",
    "ipd.clear_output(wait=True)\n"
   ]
  },
  {
   "cell_type": "markdown",
   "metadata": {},
   "source": [
    "Your results will not be the same, but your code should complete and make plots somewhat similar to these."
   ]
  },
  {
   "cell_type": "markdown",
   "metadata": {},
   "source": [
    "## Application of `NeuralNetwork` class to some concrete data!"
   ]
  },
  {
   "cell_type": "markdown",
   "metadata": {},
   "source": [
    "Download data from [Calculate Concrete Strength at Kaggle](https://www.kaggle.com/datasets/prathamtripathi/regression-with-neural-networking). Read it into python using the `pandas.read_csv` function.  Assign the first 8 columns as inputs to `X` and the final column as target values to `T`.  Make sure `T` is two-dimensional."
   ]
  },
  {
   "cell_type": "code",
   "execution_count": 289,
   "metadata": {},
   "outputs": [
    {
     "data": {
      "text/plain": [
       "((1030, 8),\n",
       " Index(['Cement', 'Blast Furnace Slag', 'Fly Ash', 'Water', 'Superplasticizer',\n",
       "        'Coarse Aggregate', 'Fine Aggregate', 'Age'],\n",
       "       dtype='object'),\n",
       " (1030, 1),\n",
       " Index(['Strength'], dtype='object'))"
      ]
     },
     "execution_count": 289,
     "metadata": {},
     "output_type": "execute_result"
    }
   ],
   "source": [
    "import pandas\n",
    "\n",
    "# Read the csv file as a pandas.DataFrame\n",
    "df = pandas.read_csv('concrete_data.csv')\n",
    "\n",
    "Xd = df.iloc[:, range(8)]\n",
    "X_names = Xd.columns\n",
    "X = Xd.values\n",
    "\n",
    "Td = df.iloc[:, 8:9]\n",
    "T_names = Td.columns\n",
    "T = Td.values\n",
    "\n",
    "X.shape, X_names, T.shape, T_names"
   ]
  },
  {
   "cell_type": "markdown",
   "metadata": {},
   "source": [
    "Before training your neural networks, partition the data into training and testing partitions, as shown here."
   ]
  },
  {
   "cell_type": "code",
   "execution_count": 290,
   "metadata": {},
   "outputs": [
    {
     "name": "stdout",
     "output_type": "stream",
     "text": [
      "Concrete: Xtrain.shape=(927, 8), Ttrain.shape=(927, 1), Xtest.shape=(103, 8), Ttest.shape=(103, 1)\n"
     ]
    }
   ],
   "source": [
    "rows = np.arange(X.shape[0])\n",
    "np.random.shuffle(rows)\n",
    "ntrain = int(0.9 * len(rows))\n",
    "\n",
    "Xtrain = X[rows[:ntrain], :]\n",
    "Ttrain = T[rows[:ntrain], :]\n",
    "Xtest = X[rows[ntrain:], :]\n",
    "Ttest = T[rows[ntrain:], :]\n",
    "\n",
    "print(f'Concrete: {Xtrain.shape=}, {Ttrain.shape=}, {Xtest.shape=}, {Ttest.shape=}')"
   ]
  },
  {
   "cell_type": "markdown",
   "metadata": {},
   "source": [
    "Use your `NeuralNetwork` class to train a model that predicts the concrete strength from the eight input values. Experiment with a variety of neural network structures (numbers of hidden layer and units) including no hidden layers, learning rates, and numbers of epochs. Show results for at least three different network structures, learning rates, and numbers of epochs for a total of at least 27 results.  Show your results in a `pandas` DataFrame with columns `('Structure', 'Epochs', 'Learning Rate', 'Train RMSE', 'Test RMSE')`.\n",
    "\n",
    "Try to find good values for the RMSE on testing data.  Discuss your results, including how good you think the RMSE values are by considering the range of concrete strength values given in the data. "
   ]
  },
  {
   "cell_type": "code",
   "execution_count": 291,
   "metadata": {},
   "outputs": [
    {
     "name": "stdout",
     "output_type": "stream",
     "text": [
      "NeuralNetwork(8, [3, 5, 7, 9], 1)\n"
     ]
    }
   ],
   "source": [
    "nnet = NeuralNetwork(8, [3,5,7,9], 1)\n",
    "nnet.train(Xtrain, Ttrain, Xtest, Ttest, 50000, learning_rate=0.001)"
   ]
  },
  {
   "cell_type": "code",
   "execution_count": 292,
   "metadata": {},
   "outputs": [
    {
     "name": "stdout",
     "output_type": "stream",
     "text": [
      "[ 540.    0.    0.  173.    0. 1125.  613.   28.]\n",
      "[57.76924442]\n",
      "[67.31]\n",
      "Test RMSE 0.046614896028247275\n",
      "Train RMSE 0.0097468517856499\n"
     ]
    }
   ],
   "source": [
    "def rmse(T, Y):\n",
    "    return np.sqrt(np.mean((T - Y)) ** 2) \n",
    "Ytest = nnet.use(Xtest)\n",
    "err_test = rmse(Ytest, Ttest)\n",
    "print(Xtest[0])\n",
    "print(Ytest[0])\n",
    "print(Ttest[0])\n",
    "Ytrain = nnet.use(Xtrain)\n",
    "err_train = rmse(Ytrain, Ttrain)\n",
    "print('Test RMSE', rmse(Ytest, Ttest))\n",
    "print('Train RMSE', rmse(Ytrain, Ttrain))\n"
   ]
  },
  {
   "cell_type": "code",
   "execution_count": 293,
   "metadata": {},
   "outputs": [
    {
     "data": {
      "text/html": [
       "<div>\n",
       "<style scoped>\n",
       "    .dataframe tbody tr th:only-of-type {\n",
       "        vertical-align: middle;\n",
       "    }\n",
       "\n",
       "    .dataframe tbody tr th {\n",
       "        vertical-align: top;\n",
       "    }\n",
       "\n",
       "    .dataframe thead th {\n",
       "        text-align: right;\n",
       "    }\n",
       "</style>\n",
       "<table border=\"1\" class=\"dataframe\">\n",
       "  <thead>\n",
       "    <tr style=\"text-align: right;\">\n",
       "      <th></th>\n",
       "      <th>Structure</th>\n",
       "      <th>Epochs</th>\n",
       "      <th>Learning Rate</th>\n",
       "      <th>Train RMSE</th>\n",
       "      <th>Test RMSE</th>\n",
       "    </tr>\n",
       "  </thead>\n",
       "  <tbody>\n",
       "    <tr>\n",
       "      <th>0</th>\n",
       "      <td>1</td>\n",
       "      <td>2</td>\n",
       "      <td>3</td>\n",
       "      <td>4</td>\n",
       "      <td>6</td>\n",
       "    </tr>\n",
       "    <tr>\n",
       "      <th>1</th>\n",
       "      <td>4</td>\n",
       "      <td>5</td>\n",
       "      <td>6</td>\n",
       "      <td>8</td>\n",
       "      <td>9</td>\n",
       "    </tr>\n",
       "    <tr>\n",
       "      <th>2</th>\n",
       "      <td>7</td>\n",
       "      <td>8</td>\n",
       "      <td>9</td>\n",
       "      <td>10</td>\n",
       "      <td>11</td>\n",
       "    </tr>\n",
       "  </tbody>\n",
       "</table>\n",
       "</div>"
      ],
      "text/plain": [
       "   Structure  Epochs  Learning Rate  Train RMSE  Test RMSE\n",
       "0          1       2              3           4          6\n",
       "1          4       5              6           8          9\n",
       "2          7       8              9          10         11"
      ]
     },
     "execution_count": 293,
     "metadata": {},
     "output_type": "execute_result"
    }
   ],
   "source": [
    "cols = ['Structure', 'Epochs', 'Learning Rate', 'Train RMSE', 'Test RMSE']\n",
    "d = pandas.DataFrame(np.array([[1, 2, 3, 4, 6], [4, 5, 6, 8, 9], [7, 8, 9, 10, 11]]),\n",
    "                   columns=cols)\n",
    "df = pandas.DataFrame(data=d)\n",
    "df"
   ]
  },
  {
   "cell_type": "code",
   "execution_count": 294,
   "metadata": {},
   "outputs": [
    {
     "name": "stdout",
     "output_type": "stream",
     "text": [
      "NeuralNetwork(8, [3, 5, 7, 9], 1)\n",
      "Structure [3, 5, 7, 9] learning rate 0.1 epoch 50000\n",
      "NeuralNetwork(8, [3, 5, 7, 9], 1)\n",
      "Structure [3, 5, 7, 9] learning rate 0.01 epoch 50000\n",
      "NeuralNetwork(8, [3, 5, 7, 9], 1)\n",
      "Structure [3, 5, 7, 9] learning rate 0.001 epoch 50000\n",
      "NeuralNetwork(8, [3, 5, 7, 9], 1)\n",
      "Structure [3, 5, 7, 9] learning rate 0.1 epoch 20000\n",
      "NeuralNetwork(8, [3, 5, 7, 9], 1)\n",
      "Structure [3, 5, 7, 9] learning rate 0.01 epoch 20000\n",
      "NeuralNetwork(8, [3, 5, 7, 9], 1)\n",
      "Structure [3, 5, 7, 9] learning rate 0.001 epoch 20000\n",
      "NeuralNetwork(8, [3, 5, 7, 9], 1)\n",
      "Structure [3, 5, 7, 9] learning rate 0.1 epoch 1000\n",
      "NeuralNetwork(8, [3, 5, 7, 9], 1)\n",
      "Structure [3, 5, 7, 9] learning rate 0.01 epoch 1000\n",
      "NeuralNetwork(8, [3, 5, 7, 9], 1)\n",
      "Structure [3, 5, 7, 9] learning rate 0.001 epoch 1000\n",
      "NeuralNetwork(8, [2, 3], 1)\n",
      "Structure [2, 3] learning rate 0.1 epoch 50000\n",
      "NeuralNetwork(8, [2, 3], 1)\n",
      "Structure [2, 3] learning rate 0.01 epoch 50000\n",
      "NeuralNetwork(8, [2, 3], 1)\n",
      "Structure [2, 3] learning rate 0.001 epoch 50000\n",
      "NeuralNetwork(8, [2, 3], 1)\n",
      "Structure [2, 3] learning rate 0.1 epoch 20000\n",
      "NeuralNetwork(8, [2, 3], 1)\n",
      "Structure [2, 3] learning rate 0.01 epoch 20000\n",
      "NeuralNetwork(8, [2, 3], 1)\n",
      "Structure [2, 3] learning rate 0.001 epoch 20000\n",
      "NeuralNetwork(8, [2, 3], 1)\n",
      "Structure [2, 3] learning rate 0.1 epoch 1000\n",
      "NeuralNetwork(8, [2, 3], 1)\n",
      "Structure [2, 3] learning rate 0.01 epoch 1000\n",
      "NeuralNetwork(8, [2, 3], 1)\n",
      "Structure [2, 3] learning rate 0.001 epoch 1000\n",
      "NeuralNetwork(8, [5], 1)\n",
      "Structure [5] learning rate 0.1 epoch 50000\n",
      "NeuralNetwork(8, [5], 1)\n",
      "Structure [5] learning rate 0.01 epoch 50000\n",
      "NeuralNetwork(8, [5], 1)\n",
      "Structure [5] learning rate 0.001 epoch 50000\n",
      "NeuralNetwork(8, [5], 1)\n",
      "Structure [5] learning rate 0.1 epoch 20000\n",
      "NeuralNetwork(8, [5], 1)\n",
      "Structure [5] learning rate 0.01 epoch 20000\n",
      "NeuralNetwork(8, [5], 1)\n",
      "Structure [5] learning rate 0.001 epoch 20000\n",
      "NeuralNetwork(8, [5], 1)\n",
      "Structure [5] learning rate 0.1 epoch 1000\n",
      "NeuralNetwork(8, [5], 1)\n",
      "Structure [5] learning rate 0.01 epoch 1000\n",
      "NeuralNetwork(8, [5], 1)\n",
      "Structure [5] learning rate 0.001 epoch 1000\n"
     ]
    },
    {
     "data": {
      "text/plain": [
       "[[[3, 5, 7, 9], 50000, 0.1, 0.08646712971120807, 0.22621966490052114],\n",
       " [[3, 5, 7, 9], 50000, 0.01, 0.10829556088502558, 0.0030712578025223316],\n",
       " [[3, 5, 7, 9], 50000, 0.001, 0.0114974012630676, 0.003544657027529482],\n",
       " [[3, 5, 7, 9], 20000, 0.1, 0.04752905250014308, 0.07339448876651967],\n",
       " [[3, 5, 7, 9], 20000, 0.01, 0.217896674864689, 0.007114877363879135],\n",
       " [[3, 5, 7, 9], 20000, 0.001, 0.18521262982028988, 0.11391181437483558],\n",
       " [[3, 5, 7, 9], 1000, 0.1, 0.03140128377293339, 0.0012660199349025683],\n",
       " [[3, 5, 7, 9], 1000, 0.01, 0.22233910160252704, 0.21569947273979262],\n",
       " [[3, 5, 7, 9], 1000, 0.001, 1.9579473425465286, 0.5798165053357772],\n",
       " [[2, 3], 50000, 0.1, 0.2660500297553624, 0.0019859500095705017],\n",
       " [[2, 3], 50000, 0.01, 0.10363780349047147, 0.006096244538746044],\n",
       " [[2, 3], 50000, 0.001, 0.06044500414045994, 0.002074843665182864],\n",
       " [[2, 3], 20000, 0.1, 0.20027288821068803, 0.042052178728959465],\n",
       " [[2, 3], 20000, 0.01, 0.08732923483739596, 0.007811146858305218],\n",
       " [[2, 3], 20000, 0.001, 0.21544363784354795, 0.10680621495008844],\n",
       " [[2, 3], 1000, 0.1, 0.21966830565360154, 0.0072792935502093686],\n",
       " [[2, 3], 1000, 0.01, 0.48786383658089355, 0.3380791445412398],\n",
       " [[2, 3], 1000, 0.001, 0.30694796165239463, 0.9441855237521286],\n",
       " [[5], 50000, 0.1, 0.3127884947335114, 0.002497479211120755],\n",
       " [[5], 50000, 0.01, 0.45621784612441935, 0.022886594496688787],\n",
       " [[5], 50000, 0.001, 0.15085978328946847, 0.10272542067362647],\n",
       " [[5], 20000, 0.1, 0.22965130548321402, 0.005291110623190428],\n",
       " [[5], 20000, 0.01, 0.2001953513686116, 0.025198351925868275],\n",
       " [[5], 20000, 0.001, 0.08285754757964978, 0.08980118619059797],\n",
       " [[5], 1000, 0.1, 0.02966443783864813, 0.04787175474025667],\n",
       " [[5], 1000, 0.01, 0.3107473144561085, 0.24426920785170267],\n",
       " [[5], 1000, 0.001, 0.1360956153612934, 1.0864031315482452]]"
      ]
     },
     "execution_count": 294,
     "metadata": {},
     "output_type": "execute_result"
    }
   ],
   "source": [
    "structures = [[3,5,7,9], [2,3], [5]]\n",
    "epochs = [50000, 20000, 1000]\n",
    "learning_rates = [0.1, 0.01, 0.001]\n",
    "cols = ['Structure', 'Epochs', 'Learning Rate', 'Train RMSE', 'Test RMSE']\n",
    "str_index = 0\n",
    "lr_index = 0\n",
    "epoch_index = 0\n",
    "output_rowFrame = []\n",
    "#str -> lr -> epoch\n",
    "for i in range(0, 27):\n",
    "    if (i % 9 == 0 and i != 0):\n",
    "        str_index += 1\n",
    "    if (i % 3 == 0 and i != 0):\n",
    "        if epoch_index + 1 == len(epochs): #restart the epoch index count cycle\n",
    "            epoch_index = 0\n",
    "        else:\n",
    "            epoch_index += 1\n",
    "    nnet = NeuralNetwork(8, structures[str_index], 1)\n",
    "    nnet.train(Xtrain, Ttrain, Xtest, Ttest, epochs[epoch_index], learning_rate=learning_rates[lr_index])\n",
    "    Ytest = nnet.use(Xtest)\n",
    "    err_test = rmse(Ytest, Ttest)\n",
    "    Ytrain = nnet.use(Xtrain)\n",
    "    err_train = rmse(Ytrain, Ttrain)\n",
    "    output_rowFrame.append([structures[str_index], epochs[epoch_index], learning_rates[lr_index], err_test, err_train])\n",
    "    print(\"Structure {} learning rate {} epoch {}\".format(structures[str_index], learning_rates[lr_index], epochs[epoch_index]))     \n",
    "    if lr_index + 1 == len(learning_rates): #restart the epoch index count cycle\n",
    "        lr_index = 0\n",
    "    else:\n",
    "        lr_index += 1\n",
    "output_rowFrame\n"
   ]
  },
  {
   "cell_type": "code",
   "execution_count": 295,
   "metadata": {},
   "outputs": [
    {
     "data": {
      "text/html": [
       "<div>\n",
       "<style scoped>\n",
       "    .dataframe tbody tr th:only-of-type {\n",
       "        vertical-align: middle;\n",
       "    }\n",
       "\n",
       "    .dataframe tbody tr th {\n",
       "        vertical-align: top;\n",
       "    }\n",
       "\n",
       "    .dataframe thead th {\n",
       "        text-align: right;\n",
       "    }\n",
       "</style>\n",
       "<table border=\"1\" class=\"dataframe\">\n",
       "  <thead>\n",
       "    <tr style=\"text-align: right;\">\n",
       "      <th></th>\n",
       "      <th>Structure</th>\n",
       "      <th>Epochs</th>\n",
       "      <th>Learning Rate</th>\n",
       "      <th>Train RMSE</th>\n",
       "      <th>Test RMSE</th>\n",
       "    </tr>\n",
       "  </thead>\n",
       "  <tbody>\n",
       "    <tr>\n",
       "      <th>0</th>\n",
       "      <td>[3, 5, 7, 9]</td>\n",
       "      <td>50000</td>\n",
       "      <td>0.100</td>\n",
       "      <td>0.086467</td>\n",
       "      <td>0.226220</td>\n",
       "    </tr>\n",
       "    <tr>\n",
       "      <th>1</th>\n",
       "      <td>[3, 5, 7, 9]</td>\n",
       "      <td>50000</td>\n",
       "      <td>0.010</td>\n",
       "      <td>0.108296</td>\n",
       "      <td>0.003071</td>\n",
       "    </tr>\n",
       "    <tr>\n",
       "      <th>2</th>\n",
       "      <td>[3, 5, 7, 9]</td>\n",
       "      <td>50000</td>\n",
       "      <td>0.001</td>\n",
       "      <td>0.011497</td>\n",
       "      <td>0.003545</td>\n",
       "    </tr>\n",
       "    <tr>\n",
       "      <th>3</th>\n",
       "      <td>[3, 5, 7, 9]</td>\n",
       "      <td>20000</td>\n",
       "      <td>0.100</td>\n",
       "      <td>0.047529</td>\n",
       "      <td>0.073394</td>\n",
       "    </tr>\n",
       "    <tr>\n",
       "      <th>4</th>\n",
       "      <td>[3, 5, 7, 9]</td>\n",
       "      <td>20000</td>\n",
       "      <td>0.010</td>\n",
       "      <td>0.217897</td>\n",
       "      <td>0.007115</td>\n",
       "    </tr>\n",
       "    <tr>\n",
       "      <th>5</th>\n",
       "      <td>[3, 5, 7, 9]</td>\n",
       "      <td>20000</td>\n",
       "      <td>0.001</td>\n",
       "      <td>0.185213</td>\n",
       "      <td>0.113912</td>\n",
       "    </tr>\n",
       "    <tr>\n",
       "      <th>6</th>\n",
       "      <td>[3, 5, 7, 9]</td>\n",
       "      <td>1000</td>\n",
       "      <td>0.100</td>\n",
       "      <td>0.031401</td>\n",
       "      <td>0.001266</td>\n",
       "    </tr>\n",
       "    <tr>\n",
       "      <th>7</th>\n",
       "      <td>[3, 5, 7, 9]</td>\n",
       "      <td>1000</td>\n",
       "      <td>0.010</td>\n",
       "      <td>0.222339</td>\n",
       "      <td>0.215699</td>\n",
       "    </tr>\n",
       "    <tr>\n",
       "      <th>8</th>\n",
       "      <td>[3, 5, 7, 9]</td>\n",
       "      <td>1000</td>\n",
       "      <td>0.001</td>\n",
       "      <td>1.957947</td>\n",
       "      <td>0.579817</td>\n",
       "    </tr>\n",
       "    <tr>\n",
       "      <th>9</th>\n",
       "      <td>[2, 3]</td>\n",
       "      <td>50000</td>\n",
       "      <td>0.100</td>\n",
       "      <td>0.266050</td>\n",
       "      <td>0.001986</td>\n",
       "    </tr>\n",
       "    <tr>\n",
       "      <th>10</th>\n",
       "      <td>[2, 3]</td>\n",
       "      <td>50000</td>\n",
       "      <td>0.010</td>\n",
       "      <td>0.103638</td>\n",
       "      <td>0.006096</td>\n",
       "    </tr>\n",
       "    <tr>\n",
       "      <th>11</th>\n",
       "      <td>[2, 3]</td>\n",
       "      <td>50000</td>\n",
       "      <td>0.001</td>\n",
       "      <td>0.060445</td>\n",
       "      <td>0.002075</td>\n",
       "    </tr>\n",
       "    <tr>\n",
       "      <th>12</th>\n",
       "      <td>[2, 3]</td>\n",
       "      <td>20000</td>\n",
       "      <td>0.100</td>\n",
       "      <td>0.200273</td>\n",
       "      <td>0.042052</td>\n",
       "    </tr>\n",
       "    <tr>\n",
       "      <th>13</th>\n",
       "      <td>[2, 3]</td>\n",
       "      <td>20000</td>\n",
       "      <td>0.010</td>\n",
       "      <td>0.087329</td>\n",
       "      <td>0.007811</td>\n",
       "    </tr>\n",
       "    <tr>\n",
       "      <th>14</th>\n",
       "      <td>[2, 3]</td>\n",
       "      <td>20000</td>\n",
       "      <td>0.001</td>\n",
       "      <td>0.215444</td>\n",
       "      <td>0.106806</td>\n",
       "    </tr>\n",
       "    <tr>\n",
       "      <th>15</th>\n",
       "      <td>[2, 3]</td>\n",
       "      <td>1000</td>\n",
       "      <td>0.100</td>\n",
       "      <td>0.219668</td>\n",
       "      <td>0.007279</td>\n",
       "    </tr>\n",
       "    <tr>\n",
       "      <th>16</th>\n",
       "      <td>[2, 3]</td>\n",
       "      <td>1000</td>\n",
       "      <td>0.010</td>\n",
       "      <td>0.487864</td>\n",
       "      <td>0.338079</td>\n",
       "    </tr>\n",
       "    <tr>\n",
       "      <th>17</th>\n",
       "      <td>[2, 3]</td>\n",
       "      <td>1000</td>\n",
       "      <td>0.001</td>\n",
       "      <td>0.306948</td>\n",
       "      <td>0.944186</td>\n",
       "    </tr>\n",
       "    <tr>\n",
       "      <th>18</th>\n",
       "      <td>[5]</td>\n",
       "      <td>50000</td>\n",
       "      <td>0.100</td>\n",
       "      <td>0.312788</td>\n",
       "      <td>0.002497</td>\n",
       "    </tr>\n",
       "    <tr>\n",
       "      <th>19</th>\n",
       "      <td>[5]</td>\n",
       "      <td>50000</td>\n",
       "      <td>0.010</td>\n",
       "      <td>0.456218</td>\n",
       "      <td>0.022887</td>\n",
       "    </tr>\n",
       "    <tr>\n",
       "      <th>20</th>\n",
       "      <td>[5]</td>\n",
       "      <td>50000</td>\n",
       "      <td>0.001</td>\n",
       "      <td>0.150860</td>\n",
       "      <td>0.102725</td>\n",
       "    </tr>\n",
       "    <tr>\n",
       "      <th>21</th>\n",
       "      <td>[5]</td>\n",
       "      <td>20000</td>\n",
       "      <td>0.100</td>\n",
       "      <td>0.229651</td>\n",
       "      <td>0.005291</td>\n",
       "    </tr>\n",
       "    <tr>\n",
       "      <th>22</th>\n",
       "      <td>[5]</td>\n",
       "      <td>20000</td>\n",
       "      <td>0.010</td>\n",
       "      <td>0.200195</td>\n",
       "      <td>0.025198</td>\n",
       "    </tr>\n",
       "    <tr>\n",
       "      <th>23</th>\n",
       "      <td>[5]</td>\n",
       "      <td>20000</td>\n",
       "      <td>0.001</td>\n",
       "      <td>0.082858</td>\n",
       "      <td>0.089801</td>\n",
       "    </tr>\n",
       "    <tr>\n",
       "      <th>24</th>\n",
       "      <td>[5]</td>\n",
       "      <td>1000</td>\n",
       "      <td>0.100</td>\n",
       "      <td>0.029664</td>\n",
       "      <td>0.047872</td>\n",
       "    </tr>\n",
       "    <tr>\n",
       "      <th>25</th>\n",
       "      <td>[5]</td>\n",
       "      <td>1000</td>\n",
       "      <td>0.010</td>\n",
       "      <td>0.310747</td>\n",
       "      <td>0.244269</td>\n",
       "    </tr>\n",
       "    <tr>\n",
       "      <th>26</th>\n",
       "      <td>[5]</td>\n",
       "      <td>1000</td>\n",
       "      <td>0.001</td>\n",
       "      <td>0.136096</td>\n",
       "      <td>1.086403</td>\n",
       "    </tr>\n",
       "  </tbody>\n",
       "</table>\n",
       "</div>"
      ],
      "text/plain": [
       "       Structure  Epochs  Learning Rate  Train RMSE  Test RMSE\n",
       "0   [3, 5, 7, 9]   50000          0.100    0.086467   0.226220\n",
       "1   [3, 5, 7, 9]   50000          0.010    0.108296   0.003071\n",
       "2   [3, 5, 7, 9]   50000          0.001    0.011497   0.003545\n",
       "3   [3, 5, 7, 9]   20000          0.100    0.047529   0.073394\n",
       "4   [3, 5, 7, 9]   20000          0.010    0.217897   0.007115\n",
       "5   [3, 5, 7, 9]   20000          0.001    0.185213   0.113912\n",
       "6   [3, 5, 7, 9]    1000          0.100    0.031401   0.001266\n",
       "7   [3, 5, 7, 9]    1000          0.010    0.222339   0.215699\n",
       "8   [3, 5, 7, 9]    1000          0.001    1.957947   0.579817\n",
       "9         [2, 3]   50000          0.100    0.266050   0.001986\n",
       "10        [2, 3]   50000          0.010    0.103638   0.006096\n",
       "11        [2, 3]   50000          0.001    0.060445   0.002075\n",
       "12        [2, 3]   20000          0.100    0.200273   0.042052\n",
       "13        [2, 3]   20000          0.010    0.087329   0.007811\n",
       "14        [2, 3]   20000          0.001    0.215444   0.106806\n",
       "15        [2, 3]    1000          0.100    0.219668   0.007279\n",
       "16        [2, 3]    1000          0.010    0.487864   0.338079\n",
       "17        [2, 3]    1000          0.001    0.306948   0.944186\n",
       "18           [5]   50000          0.100    0.312788   0.002497\n",
       "19           [5]   50000          0.010    0.456218   0.022887\n",
       "20           [5]   50000          0.001    0.150860   0.102725\n",
       "21           [5]   20000          0.100    0.229651   0.005291\n",
       "22           [5]   20000          0.010    0.200195   0.025198\n",
       "23           [5]   20000          0.001    0.082858   0.089801\n",
       "24           [5]    1000          0.100    0.029664   0.047872\n",
       "25           [5]    1000          0.010    0.310747   0.244269\n",
       "26           [5]    1000          0.001    0.136096   1.086403"
      ]
     },
     "execution_count": 295,
     "metadata": {},
     "output_type": "execute_result"
    }
   ],
   "source": [
    "cols = ['Structure', 'Epochs', 'Learning Rate', 'Train RMSE', 'Test RMSE']\n",
    "d = pandas.DataFrame(output_rowFrame,columns=cols)\n",
    "df = pandas.DataFrame(data=d)\n",
    "df"
   ]
  },
  {
   "cell_type": "markdown",
   "metadata": {},
   "source": [
    "# Observations\n",
    "\n",
    "- ## For 4 Hidden layers [3, 5, 7, 9]\n",
    "One unique observation for 4 layers as compared to lesser number of layers was that this model, with a learning rate value of 0.1 showed test error higher than the training error. This is an indication of overfitting. The test error being higher implies that the model was fitted very tightly with the training data, and as a result it didn't generalize well with the testing data, which it hadn't encountered during training. Besides, as the learning rate went down, the problem of overfitting went away, but the training accuracy decreased as well. It is also interesting to note that as the number of training epochs decreased, the error of the model went up as well. 50000 epochs, 0.01 learning rate seemed like a descent place to start. \n",
    "\n",
    "- ## For 2 hidden layers [2,3]\n",
    "The overfitting mentioned above was not observed here. The learning rate of 0.01, 0.001 seemed to fare better here than the others. 50000 training epochs still performed well for the given dataset; 20000 did comparably as well.\n",
    "\n",
    "- ## For 1 hidden layer [5]\n",
    "No overfitting. But, the training errors were comparatively pretty high for the many combinations of learning rate and epochs as compared to the networks with more hidden layers. However, the testing errors were much more respectable. The learning rate of 0.1 and 0.001 performed pretty well. In fact, the learning of 0.001 showed consistent, better results. 50,000 might still be a nice number of epochs to start with, but 1000 training epochs performed very well here as well. Given how the lower computation times, 1000 epochs might be favored here over 50k.\n",
    "\n",
    "Overall, the network did a decent job of predicting over the given concrete strength dataset. Based on the observations above, the network structure with 2 hidden layers ([2,3]) generally performed better than the others. For further improvement, the test could also be performed with 3 hidden layers so that it can mainitain a decent accuracy while not running into overfitting problems as the network with 4 layers.\n",
    "\n"
   ]
  },
  {
   "cell_type": "markdown",
   "metadata": {},
   "source": [
    "# Grading\n",
    "\n",
    "Your notebook will be run and graded automatically. Test this grading process by first downloading [A2grader.zip](http://www.cs.colostate.edu/~anderson/cs545/notebooks/A2grader.zip) and unzip `A2grader.py` from it. Run the code in the following cell to demonstrate an example grading session.  The remaining 20 points will be based on your discussion of this assignment.\n",
    "\n",
    "A different, but similar, grading script will be used to grade your checked-in notebook. It will include additional tests. You should design and perform additional tests on all of your functions to be sure they run correctly before checking in your notebook.  \n",
    "\n",
    "For the grading script to run correctly, you must first name this notebook as `A2solution.ipynb`, and then save this notebook.  Check in your `A2solution.ipynb` notebook when you are ready."
   ]
  },
  {
   "cell_type": "code",
   "execution_count": 306,
   "metadata": {
    "ExecuteTime": {
     "end_time": "2022-09-16T21:17:11.112089Z",
     "start_time": "2022-09-16T21:17:08.965640Z"
    }
   },
   "outputs": [
    {
     "name": "stdout",
     "output_type": "stream",
     "text": [
      "\n",
      "======================= Code Execution =======================\n",
      "\n",
      "Extracting python code from notebook named A2solution.ipynb and storing in notebookcode.py\n",
      "Removing all statements that are not function or class defs or import statements.\n",
      "\n",
      "Testing\n",
      "\n",
      "    n_inputs = 3\n",
      "    n_hiddens = [2, 1]\n",
      "    n_outputs = 2\n",
      "    n_samples = 5\n",
      "\n",
      "    X = np.arange(n_samples * n_inputs).reshape(n_samples, n_inputs) * 0.1\n",
      "    T = np.hstack((X, X*2))\n",
      "\n",
      "    nnet = NeuralNetwork(n_inputs, n_hiddens, n_outputs)\n",
      "    nnet.set_weights_for_testing()\n",
      "\n",
      "    # Set standardization variables so use() will run\n",
      "    nnet.X_means = 0\n",
      "    nnet.X_stds = 1\n",
      "    nnet.T_means = 0\n",
      "    nnet.T_stds = 1\n",
      "    \n",
      "    Y = nnet.use(X)\n",
      "\n",
      "Weights set for testing by calling set_weights_for_testing()\n",
      "\n",
      "--- 20/20 points. Returned correct value.\n",
      "\n",
      "Testing\n",
      "\n",
      "    n_inputs = 3\n",
      "    n_hiddens = []   # NO HIDDEN LAYERS.  SO THE NEURAL NET IS JUST A LINEAR MODEL.\n",
      "    n_samples = 5\n",
      "\n",
      "    X = np.arange(n_samples * n_inputs).reshape(n_samples, n_inputs) * 0.1\n",
      "    T = np.hstack((X, X*2))\n",
      "    n_outputs = T.shape[1]\n",
      "\n",
      "    nnet = NeuralNetwork(n_inputs, n_hiddens, n_outputs)\n",
      "    nnet.set_weights_for_testing()\n",
      "\n",
      "    nnet.train(X, T, X, T, 1000, 0.01)\n",
      "    Y = nnet.use(X)\n",
      "\n",
      "Weights set for testing by calling set_weights_for_testing()\n",
      "NeuralNetwork(3, [], 6)\n",
      "\n",
      "--- 20/20 points. Returned correct value.\n",
      "\n",
      "Testing\n",
      "    n_inputs = 3\n",
      "    n_hiddens = [20, 20, 10, 10, 5]\n",
      "    n_samples = 100\n",
      "\n",
      "    X = np.arange(n_samples * n_inputs).reshape(n_samples, n_inputs) * 0.1\n",
      "    T = np.log(X + 0.1)\n",
      "    n_outputs = T.shape[1]\n",
      "    \n",
      "    Xtrain = X[np.arange(0, n_samples, 2), :]\n",
      "    Ttrain = T[np.arange(0, n_samples, 2), :]\n",
      "    Xtest = X[np.arange(1, n_samples, 2), :]\n",
      "    Ttest = T[np.arange(1, n_samples, 2), :]\n",
      "\n",
      "    def rmse(A, B):\n",
      "        return np.sqrt(np.mean((A - B)**2))\n",
      "\n",
      "    nnet = NeuralNetwork(n_inputs, n_hiddens, n_outputs)\n",
      "    nnet.set_weights_for_testing()\n",
      "\n",
      "    nnet.train(Xtrain, Ttrain, Xtest, Ttest, 6000, 0.01)\n",
      "    Ytest = nnet.use(Xtest)\n",
      "    err = rmse(Ytest, Ttest)\n",
      "    print('RMSE', rmse(Ytest, Ttest))\n",
      "\n",
      "Weights set for testing by calling set_weights_for_testing()\n"
     ]
    },
    {
     "name": "stderr",
     "output_type": "stream",
     "text": [
      "usage: jupyter [-h] [--version] [--config-dir] [--data-dir] [--runtime-dir]\n",
      "               [--paths] [--json] [--debug]\n",
      "               [subcommand]\n",
      "\n",
      "Jupyter: Interactive Computing\n",
      "\n",
      "positional arguments:\n",
      "  subcommand     the subcommand to launch\n",
      "\n",
      "options:\n",
      "  -h, --help     show this help message and exit\n",
      "  --version      show the versions of core jupyter packages and exit\n",
      "  --config-dir   show Jupyter config dir\n",
      "  --data-dir     show Jupyter data dir\n",
      "  --runtime-dir  show Jupyter runtime dir\n",
      "  --paths        show all Jupyter paths. Add --json for machine-readable\n",
      "                 format.\n",
      "  --json         output paths as machine-readable json\n",
      "  --debug        output debug information about paths\n",
      "\n",
      "Available subcommands: console dejavu events execute kernel kernelspec lab\n",
      "labextension labhub migrate nbconvert notebook qtconsole run server\n",
      "troubleshoot trust\n",
      "\n",
      "Please specify a subcommand or one of the optional arguments.\n"
     ]
    },
    {
     "name": "stdout",
     "output_type": "stream",
     "text": [
      "NeuralNetwork(3, [20, 20, 10, 10, 5], 3)\n",
      "RMSE 0.07601184371925757\n",
      "\n",
      "--- 40/40 points. Returned correct value.\n",
      "\n",
      "======================================================================\n",
      "yuniktamrakar Execution Grade is 80 / 80\n",
      "======================================================================\n",
      "\n",
      "___ / 10 Correctly ran the required experiments with results in a pandas dataframe.\n",
      "___ / 10 Provided a sufficient description (at least 10 sentences) of your experiments and results.\n",
      "\n",
      "======================================================================\n",
      "yuniktamrakar Experiments and Discussion Grade is __ / 20\n",
      "======================================================================\n",
      "\n",
      "======================================================================\n",
      "yuniktamrakar FINAL GRADE is  ___ / 100\n",
      "======================================================================\n",
      "\n",
      "Extra Credit:\n",
      "\n",
      "Apply your functions to a data set from the UCI Machine Learning Repository.\n",
      "Explain your steps and results in markdown cells.\n",
      "\n",
      "\n",
      "yuniktamrakar EXTRA CREDIT is 0 / 1\n"
     ]
    }
   ],
   "source": [
    "%run -i A2grader.py"
   ]
  },
  {
   "cell_type": "markdown",
   "metadata": {},
   "source": [
    "# Extra Credit\n",
    "\n",
    "Apply your multilayer neural network code to a regression problem using data that you choose \n",
    "from the [UCI Machine Learning Repository](https://archive.ics.uci.edu) or the [Kaggle Datasets](https://www.kaggle.com/datasets). Pick a dataset that\n",
    "is listed as being appropriate for regression."
   ]
  },
  {
   "cell_type": "code",
   "execution_count": 297,
   "metadata": {},
   "outputs": [
    {
     "data": {
      "text/html": [
       "<div>\n",
       "<style scoped>\n",
       "    .dataframe tbody tr th:only-of-type {\n",
       "        vertical-align: middle;\n",
       "    }\n",
       "\n",
       "    .dataframe tbody tr th {\n",
       "        vertical-align: top;\n",
       "    }\n",
       "\n",
       "    .dataframe thead th {\n",
       "        text-align: right;\n",
       "    }\n",
       "</style>\n",
       "<table border=\"1\" class=\"dataframe\">\n",
       "  <thead>\n",
       "    <tr style=\"text-align: right;\">\n",
       "      <th></th>\n",
       "      <th>id</th>\n",
       "      <th>date</th>\n",
       "      <th>price</th>\n",
       "      <th>bedrooms</th>\n",
       "      <th>bathrooms</th>\n",
       "      <th>sqft_living</th>\n",
       "      <th>sqft_lot</th>\n",
       "      <th>floors</th>\n",
       "      <th>waterfront</th>\n",
       "      <th>view</th>\n",
       "      <th>...</th>\n",
       "      <th>grade</th>\n",
       "      <th>sqft_above</th>\n",
       "      <th>sqft_basement</th>\n",
       "      <th>yr_built</th>\n",
       "      <th>yr_renovated</th>\n",
       "      <th>zipcode</th>\n",
       "      <th>lat</th>\n",
       "      <th>long</th>\n",
       "      <th>sqft_living15</th>\n",
       "      <th>sqft_lot15</th>\n",
       "    </tr>\n",
       "  </thead>\n",
       "  <tbody>\n",
       "    <tr>\n",
       "      <th>0</th>\n",
       "      <td>7129300520</td>\n",
       "      <td>20141013T000000</td>\n",
       "      <td>221900.0</td>\n",
       "      <td>3</td>\n",
       "      <td>1.00</td>\n",
       "      <td>1180</td>\n",
       "      <td>5650</td>\n",
       "      <td>1.0</td>\n",
       "      <td>0</td>\n",
       "      <td>0</td>\n",
       "      <td>...</td>\n",
       "      <td>7</td>\n",
       "      <td>1180</td>\n",
       "      <td>0</td>\n",
       "      <td>1955</td>\n",
       "      <td>0</td>\n",
       "      <td>98178</td>\n",
       "      <td>47.5112</td>\n",
       "      <td>-122.257</td>\n",
       "      <td>1340</td>\n",
       "      <td>5650</td>\n",
       "    </tr>\n",
       "    <tr>\n",
       "      <th>1</th>\n",
       "      <td>6414100192</td>\n",
       "      <td>20141209T000000</td>\n",
       "      <td>538000.0</td>\n",
       "      <td>3</td>\n",
       "      <td>2.25</td>\n",
       "      <td>2570</td>\n",
       "      <td>7242</td>\n",
       "      <td>2.0</td>\n",
       "      <td>0</td>\n",
       "      <td>0</td>\n",
       "      <td>...</td>\n",
       "      <td>7</td>\n",
       "      <td>2170</td>\n",
       "      <td>400</td>\n",
       "      <td>1951</td>\n",
       "      <td>1991</td>\n",
       "      <td>98125</td>\n",
       "      <td>47.7210</td>\n",
       "      <td>-122.319</td>\n",
       "      <td>1690</td>\n",
       "      <td>7639</td>\n",
       "    </tr>\n",
       "    <tr>\n",
       "      <th>2</th>\n",
       "      <td>5631500400</td>\n",
       "      <td>20150225T000000</td>\n",
       "      <td>180000.0</td>\n",
       "      <td>2</td>\n",
       "      <td>1.00</td>\n",
       "      <td>770</td>\n",
       "      <td>10000</td>\n",
       "      <td>1.0</td>\n",
       "      <td>0</td>\n",
       "      <td>0</td>\n",
       "      <td>...</td>\n",
       "      <td>6</td>\n",
       "      <td>770</td>\n",
       "      <td>0</td>\n",
       "      <td>1933</td>\n",
       "      <td>0</td>\n",
       "      <td>98028</td>\n",
       "      <td>47.7379</td>\n",
       "      <td>-122.233</td>\n",
       "      <td>2720</td>\n",
       "      <td>8062</td>\n",
       "    </tr>\n",
       "    <tr>\n",
       "      <th>3</th>\n",
       "      <td>2487200875</td>\n",
       "      <td>20141209T000000</td>\n",
       "      <td>604000.0</td>\n",
       "      <td>4</td>\n",
       "      <td>3.00</td>\n",
       "      <td>1960</td>\n",
       "      <td>5000</td>\n",
       "      <td>1.0</td>\n",
       "      <td>0</td>\n",
       "      <td>0</td>\n",
       "      <td>...</td>\n",
       "      <td>7</td>\n",
       "      <td>1050</td>\n",
       "      <td>910</td>\n",
       "      <td>1965</td>\n",
       "      <td>0</td>\n",
       "      <td>98136</td>\n",
       "      <td>47.5208</td>\n",
       "      <td>-122.393</td>\n",
       "      <td>1360</td>\n",
       "      <td>5000</td>\n",
       "    </tr>\n",
       "    <tr>\n",
       "      <th>4</th>\n",
       "      <td>1954400510</td>\n",
       "      <td>20150218T000000</td>\n",
       "      <td>510000.0</td>\n",
       "      <td>3</td>\n",
       "      <td>2.00</td>\n",
       "      <td>1680</td>\n",
       "      <td>8080</td>\n",
       "      <td>1.0</td>\n",
       "      <td>0</td>\n",
       "      <td>0</td>\n",
       "      <td>...</td>\n",
       "      <td>8</td>\n",
       "      <td>1680</td>\n",
       "      <td>0</td>\n",
       "      <td>1987</td>\n",
       "      <td>0</td>\n",
       "      <td>98074</td>\n",
       "      <td>47.6168</td>\n",
       "      <td>-122.045</td>\n",
       "      <td>1800</td>\n",
       "      <td>7503</td>\n",
       "    </tr>\n",
       "    <tr>\n",
       "      <th>...</th>\n",
       "      <td>...</td>\n",
       "      <td>...</td>\n",
       "      <td>...</td>\n",
       "      <td>...</td>\n",
       "      <td>...</td>\n",
       "      <td>...</td>\n",
       "      <td>...</td>\n",
       "      <td>...</td>\n",
       "      <td>...</td>\n",
       "      <td>...</td>\n",
       "      <td>...</td>\n",
       "      <td>...</td>\n",
       "      <td>...</td>\n",
       "      <td>...</td>\n",
       "      <td>...</td>\n",
       "      <td>...</td>\n",
       "      <td>...</td>\n",
       "      <td>...</td>\n",
       "      <td>...</td>\n",
       "      <td>...</td>\n",
       "      <td>...</td>\n",
       "    </tr>\n",
       "    <tr>\n",
       "      <th>21608</th>\n",
       "      <td>263000018</td>\n",
       "      <td>20140521T000000</td>\n",
       "      <td>360000.0</td>\n",
       "      <td>3</td>\n",
       "      <td>2.50</td>\n",
       "      <td>1530</td>\n",
       "      <td>1131</td>\n",
       "      <td>3.0</td>\n",
       "      <td>0</td>\n",
       "      <td>0</td>\n",
       "      <td>...</td>\n",
       "      <td>8</td>\n",
       "      <td>1530</td>\n",
       "      <td>0</td>\n",
       "      <td>2009</td>\n",
       "      <td>0</td>\n",
       "      <td>98103</td>\n",
       "      <td>47.6993</td>\n",
       "      <td>-122.346</td>\n",
       "      <td>1530</td>\n",
       "      <td>1509</td>\n",
       "    </tr>\n",
       "    <tr>\n",
       "      <th>21609</th>\n",
       "      <td>6600060120</td>\n",
       "      <td>20150223T000000</td>\n",
       "      <td>400000.0</td>\n",
       "      <td>4</td>\n",
       "      <td>2.50</td>\n",
       "      <td>2310</td>\n",
       "      <td>5813</td>\n",
       "      <td>2.0</td>\n",
       "      <td>0</td>\n",
       "      <td>0</td>\n",
       "      <td>...</td>\n",
       "      <td>8</td>\n",
       "      <td>2310</td>\n",
       "      <td>0</td>\n",
       "      <td>2014</td>\n",
       "      <td>0</td>\n",
       "      <td>98146</td>\n",
       "      <td>47.5107</td>\n",
       "      <td>-122.362</td>\n",
       "      <td>1830</td>\n",
       "      <td>7200</td>\n",
       "    </tr>\n",
       "    <tr>\n",
       "      <th>21610</th>\n",
       "      <td>1523300141</td>\n",
       "      <td>20140623T000000</td>\n",
       "      <td>402101.0</td>\n",
       "      <td>2</td>\n",
       "      <td>0.75</td>\n",
       "      <td>1020</td>\n",
       "      <td>1350</td>\n",
       "      <td>2.0</td>\n",
       "      <td>0</td>\n",
       "      <td>0</td>\n",
       "      <td>...</td>\n",
       "      <td>7</td>\n",
       "      <td>1020</td>\n",
       "      <td>0</td>\n",
       "      <td>2009</td>\n",
       "      <td>0</td>\n",
       "      <td>98144</td>\n",
       "      <td>47.5944</td>\n",
       "      <td>-122.299</td>\n",
       "      <td>1020</td>\n",
       "      <td>2007</td>\n",
       "    </tr>\n",
       "    <tr>\n",
       "      <th>21611</th>\n",
       "      <td>291310100</td>\n",
       "      <td>20150116T000000</td>\n",
       "      <td>400000.0</td>\n",
       "      <td>3</td>\n",
       "      <td>2.50</td>\n",
       "      <td>1600</td>\n",
       "      <td>2388</td>\n",
       "      <td>2.0</td>\n",
       "      <td>0</td>\n",
       "      <td>0</td>\n",
       "      <td>...</td>\n",
       "      <td>8</td>\n",
       "      <td>1600</td>\n",
       "      <td>0</td>\n",
       "      <td>2004</td>\n",
       "      <td>0</td>\n",
       "      <td>98027</td>\n",
       "      <td>47.5345</td>\n",
       "      <td>-122.069</td>\n",
       "      <td>1410</td>\n",
       "      <td>1287</td>\n",
       "    </tr>\n",
       "    <tr>\n",
       "      <th>21612</th>\n",
       "      <td>1523300157</td>\n",
       "      <td>20141015T000000</td>\n",
       "      <td>325000.0</td>\n",
       "      <td>2</td>\n",
       "      <td>0.75</td>\n",
       "      <td>1020</td>\n",
       "      <td>1076</td>\n",
       "      <td>2.0</td>\n",
       "      <td>0</td>\n",
       "      <td>0</td>\n",
       "      <td>...</td>\n",
       "      <td>7</td>\n",
       "      <td>1020</td>\n",
       "      <td>0</td>\n",
       "      <td>2008</td>\n",
       "      <td>0</td>\n",
       "      <td>98144</td>\n",
       "      <td>47.5941</td>\n",
       "      <td>-122.299</td>\n",
       "      <td>1020</td>\n",
       "      <td>1357</td>\n",
       "    </tr>\n",
       "  </tbody>\n",
       "</table>\n",
       "<p>21613 rows × 21 columns</p>\n",
       "</div>"
      ],
      "text/plain": [
       "               id             date     price  bedrooms  bathrooms  \\\n",
       "0      7129300520  20141013T000000  221900.0         3       1.00   \n",
       "1      6414100192  20141209T000000  538000.0         3       2.25   \n",
       "2      5631500400  20150225T000000  180000.0         2       1.00   \n",
       "3      2487200875  20141209T000000  604000.0         4       3.00   \n",
       "4      1954400510  20150218T000000  510000.0         3       2.00   \n",
       "...           ...              ...       ...       ...        ...   \n",
       "21608   263000018  20140521T000000  360000.0         3       2.50   \n",
       "21609  6600060120  20150223T000000  400000.0         4       2.50   \n",
       "21610  1523300141  20140623T000000  402101.0         2       0.75   \n",
       "21611   291310100  20150116T000000  400000.0         3       2.50   \n",
       "21612  1523300157  20141015T000000  325000.0         2       0.75   \n",
       "\n",
       "       sqft_living  sqft_lot  floors  waterfront  view  ...  grade  \\\n",
       "0             1180      5650     1.0           0     0  ...      7   \n",
       "1             2570      7242     2.0           0     0  ...      7   \n",
       "2              770     10000     1.0           0     0  ...      6   \n",
       "3             1960      5000     1.0           0     0  ...      7   \n",
       "4             1680      8080     1.0           0     0  ...      8   \n",
       "...            ...       ...     ...         ...   ...  ...    ...   \n",
       "21608         1530      1131     3.0           0     0  ...      8   \n",
       "21609         2310      5813     2.0           0     0  ...      8   \n",
       "21610         1020      1350     2.0           0     0  ...      7   \n",
       "21611         1600      2388     2.0           0     0  ...      8   \n",
       "21612         1020      1076     2.0           0     0  ...      7   \n",
       "\n",
       "       sqft_above  sqft_basement  yr_built  yr_renovated  zipcode      lat  \\\n",
       "0            1180              0      1955             0    98178  47.5112   \n",
       "1            2170            400      1951          1991    98125  47.7210   \n",
       "2             770              0      1933             0    98028  47.7379   \n",
       "3            1050            910      1965             0    98136  47.5208   \n",
       "4            1680              0      1987             0    98074  47.6168   \n",
       "...           ...            ...       ...           ...      ...      ...   \n",
       "21608        1530              0      2009             0    98103  47.6993   \n",
       "21609        2310              0      2014             0    98146  47.5107   \n",
       "21610        1020              0      2009             0    98144  47.5944   \n",
       "21611        1600              0      2004             0    98027  47.5345   \n",
       "21612        1020              0      2008             0    98144  47.5941   \n",
       "\n",
       "          long  sqft_living15  sqft_lot15  \n",
       "0     -122.257           1340        5650  \n",
       "1     -122.319           1690        7639  \n",
       "2     -122.233           2720        8062  \n",
       "3     -122.393           1360        5000  \n",
       "4     -122.045           1800        7503  \n",
       "...        ...            ...         ...  \n",
       "21608 -122.346           1530        1509  \n",
       "21609 -122.362           1830        7200  \n",
       "21610 -122.299           1020        2007  \n",
       "21611 -122.069           1410        1287  \n",
       "21612 -122.299           1020        1357  \n",
       "\n",
       "[21613 rows x 21 columns]"
      ]
     },
     "execution_count": 297,
     "metadata": {},
     "output_type": "execute_result"
    }
   ],
   "source": [
    "import pandas as pd\n",
    "\n",
    "# Read the csv file as a pandas.DataFrame\n",
    "df = pd.read_csv('kc_house_data.csv')\n",
    "\n",
    "\n",
    "df\n"
   ]
  },
  {
   "cell_type": "code",
   "execution_count": 298,
   "metadata": {},
   "outputs": [
    {
     "data": {
      "text/plain": [
       "id               0\n",
       "date             0\n",
       "price            0\n",
       "bedrooms         0\n",
       "bathrooms        0\n",
       "sqft_living      0\n",
       "sqft_lot         0\n",
       "floors           0\n",
       "waterfront       0\n",
       "view             0\n",
       "condition        0\n",
       "grade            0\n",
       "sqft_above       0\n",
       "sqft_basement    0\n",
       "yr_built         0\n",
       "yr_renovated     0\n",
       "zipcode          0\n",
       "lat              0\n",
       "long             0\n",
       "sqft_living15    0\n",
       "sqft_lot15       0\n",
       "dtype: int64"
      ]
     },
     "execution_count": 298,
     "metadata": {},
     "output_type": "execute_result"
    }
   ],
   "source": [
    "pd.isnull(df).sum()"
   ]
  },
  {
   "cell_type": "code",
   "execution_count": 299,
   "metadata": {},
   "outputs": [
    {
     "data": {
      "text/html": [
       "<div>\n",
       "<style scoped>\n",
       "    .dataframe tbody tr th:only-of-type {\n",
       "        vertical-align: middle;\n",
       "    }\n",
       "\n",
       "    .dataframe tbody tr th {\n",
       "        vertical-align: top;\n",
       "    }\n",
       "\n",
       "    .dataframe thead th {\n",
       "        text-align: right;\n",
       "    }\n",
       "</style>\n",
       "<table border=\"1\" class=\"dataframe\">\n",
       "  <thead>\n",
       "    <tr style=\"text-align: right;\">\n",
       "      <th></th>\n",
       "      <th>price</th>\n",
       "      <th>bedrooms</th>\n",
       "      <th>bathrooms</th>\n",
       "      <th>sqft_living</th>\n",
       "      <th>sqft_lot</th>\n",
       "      <th>floors</th>\n",
       "      <th>waterfront</th>\n",
       "      <th>view</th>\n",
       "      <th>condition</th>\n",
       "      <th>grade</th>\n",
       "      <th>sqft_above</th>\n",
       "      <th>sqft_basement</th>\n",
       "      <th>yr_built</th>\n",
       "      <th>yr_renovated</th>\n",
       "      <th>zipcode</th>\n",
       "      <th>lat</th>\n",
       "      <th>long</th>\n",
       "      <th>sqft_living15</th>\n",
       "      <th>sqft_lot15</th>\n",
       "    </tr>\n",
       "  </thead>\n",
       "  <tbody>\n",
       "    <tr>\n",
       "      <th>0</th>\n",
       "      <td>221900.0</td>\n",
       "      <td>3</td>\n",
       "      <td>1.00</td>\n",
       "      <td>1180</td>\n",
       "      <td>5650</td>\n",
       "      <td>1.0</td>\n",
       "      <td>0</td>\n",
       "      <td>0</td>\n",
       "      <td>3</td>\n",
       "      <td>7</td>\n",
       "      <td>1180</td>\n",
       "      <td>0</td>\n",
       "      <td>1955</td>\n",
       "      <td>0</td>\n",
       "      <td>98178</td>\n",
       "      <td>47.5112</td>\n",
       "      <td>-122.257</td>\n",
       "      <td>1340</td>\n",
       "      <td>5650</td>\n",
       "    </tr>\n",
       "    <tr>\n",
       "      <th>1</th>\n",
       "      <td>538000.0</td>\n",
       "      <td>3</td>\n",
       "      <td>2.25</td>\n",
       "      <td>2570</td>\n",
       "      <td>7242</td>\n",
       "      <td>2.0</td>\n",
       "      <td>0</td>\n",
       "      <td>0</td>\n",
       "      <td>3</td>\n",
       "      <td>7</td>\n",
       "      <td>2170</td>\n",
       "      <td>400</td>\n",
       "      <td>1951</td>\n",
       "      <td>1991</td>\n",
       "      <td>98125</td>\n",
       "      <td>47.7210</td>\n",
       "      <td>-122.319</td>\n",
       "      <td>1690</td>\n",
       "      <td>7639</td>\n",
       "    </tr>\n",
       "    <tr>\n",
       "      <th>2</th>\n",
       "      <td>180000.0</td>\n",
       "      <td>2</td>\n",
       "      <td>1.00</td>\n",
       "      <td>770</td>\n",
       "      <td>10000</td>\n",
       "      <td>1.0</td>\n",
       "      <td>0</td>\n",
       "      <td>0</td>\n",
       "      <td>3</td>\n",
       "      <td>6</td>\n",
       "      <td>770</td>\n",
       "      <td>0</td>\n",
       "      <td>1933</td>\n",
       "      <td>0</td>\n",
       "      <td>98028</td>\n",
       "      <td>47.7379</td>\n",
       "      <td>-122.233</td>\n",
       "      <td>2720</td>\n",
       "      <td>8062</td>\n",
       "    </tr>\n",
       "    <tr>\n",
       "      <th>3</th>\n",
       "      <td>604000.0</td>\n",
       "      <td>4</td>\n",
       "      <td>3.00</td>\n",
       "      <td>1960</td>\n",
       "      <td>5000</td>\n",
       "      <td>1.0</td>\n",
       "      <td>0</td>\n",
       "      <td>0</td>\n",
       "      <td>5</td>\n",
       "      <td>7</td>\n",
       "      <td>1050</td>\n",
       "      <td>910</td>\n",
       "      <td>1965</td>\n",
       "      <td>0</td>\n",
       "      <td>98136</td>\n",
       "      <td>47.5208</td>\n",
       "      <td>-122.393</td>\n",
       "      <td>1360</td>\n",
       "      <td>5000</td>\n",
       "    </tr>\n",
       "    <tr>\n",
       "      <th>4</th>\n",
       "      <td>510000.0</td>\n",
       "      <td>3</td>\n",
       "      <td>2.00</td>\n",
       "      <td>1680</td>\n",
       "      <td>8080</td>\n",
       "      <td>1.0</td>\n",
       "      <td>0</td>\n",
       "      <td>0</td>\n",
       "      <td>3</td>\n",
       "      <td>8</td>\n",
       "      <td>1680</td>\n",
       "      <td>0</td>\n",
       "      <td>1987</td>\n",
       "      <td>0</td>\n",
       "      <td>98074</td>\n",
       "      <td>47.6168</td>\n",
       "      <td>-122.045</td>\n",
       "      <td>1800</td>\n",
       "      <td>7503</td>\n",
       "    </tr>\n",
       "    <tr>\n",
       "      <th>...</th>\n",
       "      <td>...</td>\n",
       "      <td>...</td>\n",
       "      <td>...</td>\n",
       "      <td>...</td>\n",
       "      <td>...</td>\n",
       "      <td>...</td>\n",
       "      <td>...</td>\n",
       "      <td>...</td>\n",
       "      <td>...</td>\n",
       "      <td>...</td>\n",
       "      <td>...</td>\n",
       "      <td>...</td>\n",
       "      <td>...</td>\n",
       "      <td>...</td>\n",
       "      <td>...</td>\n",
       "      <td>...</td>\n",
       "      <td>...</td>\n",
       "      <td>...</td>\n",
       "      <td>...</td>\n",
       "    </tr>\n",
       "    <tr>\n",
       "      <th>21608</th>\n",
       "      <td>360000.0</td>\n",
       "      <td>3</td>\n",
       "      <td>2.50</td>\n",
       "      <td>1530</td>\n",
       "      <td>1131</td>\n",
       "      <td>3.0</td>\n",
       "      <td>0</td>\n",
       "      <td>0</td>\n",
       "      <td>3</td>\n",
       "      <td>8</td>\n",
       "      <td>1530</td>\n",
       "      <td>0</td>\n",
       "      <td>2009</td>\n",
       "      <td>0</td>\n",
       "      <td>98103</td>\n",
       "      <td>47.6993</td>\n",
       "      <td>-122.346</td>\n",
       "      <td>1530</td>\n",
       "      <td>1509</td>\n",
       "    </tr>\n",
       "    <tr>\n",
       "      <th>21609</th>\n",
       "      <td>400000.0</td>\n",
       "      <td>4</td>\n",
       "      <td>2.50</td>\n",
       "      <td>2310</td>\n",
       "      <td>5813</td>\n",
       "      <td>2.0</td>\n",
       "      <td>0</td>\n",
       "      <td>0</td>\n",
       "      <td>3</td>\n",
       "      <td>8</td>\n",
       "      <td>2310</td>\n",
       "      <td>0</td>\n",
       "      <td>2014</td>\n",
       "      <td>0</td>\n",
       "      <td>98146</td>\n",
       "      <td>47.5107</td>\n",
       "      <td>-122.362</td>\n",
       "      <td>1830</td>\n",
       "      <td>7200</td>\n",
       "    </tr>\n",
       "    <tr>\n",
       "      <th>21610</th>\n",
       "      <td>402101.0</td>\n",
       "      <td>2</td>\n",
       "      <td>0.75</td>\n",
       "      <td>1020</td>\n",
       "      <td>1350</td>\n",
       "      <td>2.0</td>\n",
       "      <td>0</td>\n",
       "      <td>0</td>\n",
       "      <td>3</td>\n",
       "      <td>7</td>\n",
       "      <td>1020</td>\n",
       "      <td>0</td>\n",
       "      <td>2009</td>\n",
       "      <td>0</td>\n",
       "      <td>98144</td>\n",
       "      <td>47.5944</td>\n",
       "      <td>-122.299</td>\n",
       "      <td>1020</td>\n",
       "      <td>2007</td>\n",
       "    </tr>\n",
       "    <tr>\n",
       "      <th>21611</th>\n",
       "      <td>400000.0</td>\n",
       "      <td>3</td>\n",
       "      <td>2.50</td>\n",
       "      <td>1600</td>\n",
       "      <td>2388</td>\n",
       "      <td>2.0</td>\n",
       "      <td>0</td>\n",
       "      <td>0</td>\n",
       "      <td>3</td>\n",
       "      <td>8</td>\n",
       "      <td>1600</td>\n",
       "      <td>0</td>\n",
       "      <td>2004</td>\n",
       "      <td>0</td>\n",
       "      <td>98027</td>\n",
       "      <td>47.5345</td>\n",
       "      <td>-122.069</td>\n",
       "      <td>1410</td>\n",
       "      <td>1287</td>\n",
       "    </tr>\n",
       "    <tr>\n",
       "      <th>21612</th>\n",
       "      <td>325000.0</td>\n",
       "      <td>2</td>\n",
       "      <td>0.75</td>\n",
       "      <td>1020</td>\n",
       "      <td>1076</td>\n",
       "      <td>2.0</td>\n",
       "      <td>0</td>\n",
       "      <td>0</td>\n",
       "      <td>3</td>\n",
       "      <td>7</td>\n",
       "      <td>1020</td>\n",
       "      <td>0</td>\n",
       "      <td>2008</td>\n",
       "      <td>0</td>\n",
       "      <td>98144</td>\n",
       "      <td>47.5941</td>\n",
       "      <td>-122.299</td>\n",
       "      <td>1020</td>\n",
       "      <td>1357</td>\n",
       "    </tr>\n",
       "  </tbody>\n",
       "</table>\n",
       "<p>21613 rows × 19 columns</p>\n",
       "</div>"
      ],
      "text/plain": [
       "          price  bedrooms  bathrooms  sqft_living  sqft_lot  floors  \\\n",
       "0      221900.0         3       1.00         1180      5650     1.0   \n",
       "1      538000.0         3       2.25         2570      7242     2.0   \n",
       "2      180000.0         2       1.00          770     10000     1.0   \n",
       "3      604000.0         4       3.00         1960      5000     1.0   \n",
       "4      510000.0         3       2.00         1680      8080     1.0   \n",
       "...         ...       ...        ...          ...       ...     ...   \n",
       "21608  360000.0         3       2.50         1530      1131     3.0   \n",
       "21609  400000.0         4       2.50         2310      5813     2.0   \n",
       "21610  402101.0         2       0.75         1020      1350     2.0   \n",
       "21611  400000.0         3       2.50         1600      2388     2.0   \n",
       "21612  325000.0         2       0.75         1020      1076     2.0   \n",
       "\n",
       "       waterfront  view  condition  grade  sqft_above  sqft_basement  \\\n",
       "0               0     0          3      7        1180              0   \n",
       "1               0     0          3      7        2170            400   \n",
       "2               0     0          3      6         770              0   \n",
       "3               0     0          5      7        1050            910   \n",
       "4               0     0          3      8        1680              0   \n",
       "...           ...   ...        ...    ...         ...            ...   \n",
       "21608           0     0          3      8        1530              0   \n",
       "21609           0     0          3      8        2310              0   \n",
       "21610           0     0          3      7        1020              0   \n",
       "21611           0     0          3      8        1600              0   \n",
       "21612           0     0          3      7        1020              0   \n",
       "\n",
       "       yr_built  yr_renovated  zipcode      lat     long  sqft_living15  \\\n",
       "0          1955             0    98178  47.5112 -122.257           1340   \n",
       "1          1951          1991    98125  47.7210 -122.319           1690   \n",
       "2          1933             0    98028  47.7379 -122.233           2720   \n",
       "3          1965             0    98136  47.5208 -122.393           1360   \n",
       "4          1987             0    98074  47.6168 -122.045           1800   \n",
       "...         ...           ...      ...      ...      ...            ...   \n",
       "21608      2009             0    98103  47.6993 -122.346           1530   \n",
       "21609      2014             0    98146  47.5107 -122.362           1830   \n",
       "21610      2009             0    98144  47.5944 -122.299           1020   \n",
       "21611      2004             0    98027  47.5345 -122.069           1410   \n",
       "21612      2008             0    98144  47.5941 -122.299           1020   \n",
       "\n",
       "       sqft_lot15  \n",
       "0            5650  \n",
       "1            7639  \n",
       "2            8062  \n",
       "3            5000  \n",
       "4            7503  \n",
       "...           ...  \n",
       "21608        1509  \n",
       "21609        7200  \n",
       "21610        2007  \n",
       "21611        1287  \n",
       "21612        1357  \n",
       "\n",
       "[21613 rows x 19 columns]"
      ]
     },
     "execution_count": 299,
     "metadata": {},
     "output_type": "execute_result"
    }
   ],
   "source": [
    "df = df.drop(columns=['id','date'])\n",
    "df"
   ]
  },
  {
   "cell_type": "code",
   "execution_count": 300,
   "metadata": {},
   "outputs": [
    {
     "data": {
      "text/plain": [
       "((21613, 18),\n",
       " Index(['bedrooms', 'bathrooms', 'sqft_living', 'sqft_lot', 'floors',\n",
       "        'waterfront', 'view', 'condition', 'grade', 'sqft_above',\n",
       "        'sqft_basement', 'yr_built', 'yr_renovated', 'zipcode', 'lat', 'long',\n",
       "        'sqft_living15', 'sqft_lot15'],\n",
       "       dtype='object'),\n",
       " (21613, 1),\n",
       " Index(['price'], dtype='object'))"
      ]
     },
     "execution_count": 300,
     "metadata": {},
     "output_type": "execute_result"
    }
   ],
   "source": [
    "Xd = df.iloc[:, 1:]\n",
    "X_names = Xd.columns\n",
    "X = Xd.values\n",
    "\n",
    "Td = df.iloc[:, 0:1]\n",
    "T_names = Td.columns\n",
    "T = Td.values\n",
    "\n",
    "X.shape, X_names, T.shape, T_names"
   ]
  },
  {
   "cell_type": "code",
   "execution_count": 301,
   "metadata": {},
   "outputs": [
    {
     "name": "stdout",
     "output_type": "stream",
     "text": [
      "Concrete: Xtrain.shape=(19451, 18), Ttrain.shape=(19451, 1), Xtest.shape=(2162, 18), Ttest.shape=(2162, 1)\n"
     ]
    }
   ],
   "source": [
    "rows = np.arange(X.shape[0])\n",
    "np.random.shuffle(rows)\n",
    "ntrain = int(0.9 * len(rows))\n",
    "\n",
    "Xtrain = X[rows[:ntrain], :]\n",
    "Ttrain = T[rows[:ntrain], :]\n",
    "Xtest = X[rows[ntrain:], :]\n",
    "Ttest = T[rows[ntrain:], :]\n",
    "\n",
    "print(f'Concrete: {Xtrain.shape=}, {Ttrain.shape=}, {Xtest.shape=}, {Ttest.shape=}')"
   ]
  },
  {
   "cell_type": "code",
   "execution_count": 302,
   "metadata": {},
   "outputs": [
    {
     "name": "stdout",
     "output_type": "stream",
     "text": [
      "NeuralNetwork(18, [3, 5, 7], 1)\n"
     ]
    }
   ],
   "source": [
    "nnet = NeuralNetwork(18, [3,5,7], 1)\n",
    "nnet.train(Xtrain, Ttrain, Xtest, Ttest, 50000, learning_rate=0.001)"
   ]
  },
  {
   "cell_type": "code",
   "execution_count": 303,
   "metadata": {},
   "outputs": [
    {
     "name": "stdout",
     "output_type": "stream",
     "text": [
      "[ 2.00000e+00  2.00000e+00  1.36000e+03  3.30000e+03  2.00000e+00\n",
      "  0.00000e+00  0.00000e+00  3.00000e+00  6.00000e+00  1.36000e+03\n",
      "  0.00000e+00  2.00400e+03  0.00000e+00  9.80380e+04  4.73489e+01\n",
      " -1.22022e+02  1.31000e+03  3.30000e+03]\n",
      "[1172086.73713321]\n",
      "[1350000.]\n",
      "Test RMSE 2068.347422157625\n",
      "Train RMSE 2645.1774007164086\n"
     ]
    }
   ],
   "source": [
    "def rmse(T, Y):\n",
    "    return np.sqrt(np.mean((T - Y)) ** 2) \n",
    "Ytest = nnet.use(Xtest)\n",
    "err_test = rmse(Ytest, Ttest)\n",
    "print(Xtest[0])\n",
    "print(Ytest[5])\n",
    "print(Ttest[5])\n",
    "Ytrain = nnet.use(Xtrain)\n",
    "err_train = rmse(Ytrain, Ttrain)\n",
    "print('Test RMSE', rmse(Ytest, Ttest))\n",
    "print('Train RMSE', rmse(Ytrain, Ttrain))"
   ]
  },
  {
   "cell_type": "code",
   "execution_count": 304,
   "metadata": {},
   "outputs": [
    {
     "data": {
      "text/plain": [
       "[[0.4998900711584727, 0.4996314445816714],\n",
       " [0.49988900620398125, 0.499630208941907],\n",
       " [0.4998879412913523, 0.4996289733476346],\n",
       " [0.4998868764205812, 0.49962773779884934],\n",
       " [0.4998858115916631, 0.4996265022955463],\n",
       " [0.4998847468045933, 0.4996252668377206],\n",
       " [0.499883682059367, 0.49962403142536765],\n",
       " [0.49988261735597944, 0.49962279605848237],\n",
       " [0.4998815526944259, 0.49962156073706],\n",
       " [0.4998804880747015, 0.49962032546109586],\n",
       " [0.4998794234968014, 0.4996190902305848],\n",
       " [0.4998783589607211, 0.49961785504552236],\n",
       " [0.4998772944664557, 0.49961661990590345],\n",
       " [0.49987623001400033, 0.49961538481172335],\n",
       " [0.4998751656033503, 0.4996141497629772],\n",
       " [0.49987410123450093, 0.4996129147596602],\n",
       " [0.49987303690744744, 0.4996116798017674],\n",
       " [0.49987197262218497, 0.49961044488929424],\n",
       " [0.49987090837870873, 0.4996092100222357],\n",
       " [0.49986984417701413, 0.4996079752005869],\n",
       " [0.4998687800170962, 0.4996067404243431],\n",
       " [0.49986771589895035, 0.49960550569349954],\n",
       " [0.49986665182257173, 0.4996042710080513],\n",
       " [0.49986558778795565, 0.4996030363679936],\n",
       " [0.4998645237950972, 0.4996018017733216],\n",
       " [0.4998634598439918, 0.49960056722403046],\n",
       " [0.49986239593463455, 0.4995993327201154],\n",
       " [0.4998613320670208, 0.49959809826157153],\n",
       " [0.4998602682411457, 0.4995968638483941],\n",
       " [0.4998592044570046, 0.4995956294805782],\n",
       " [0.49985814071459267, 0.49959439515811904],\n",
       " [0.4998570770139051, 0.499593160881012],\n",
       " [0.4998560133549372, 0.4995919266492519],\n",
       " [0.49985494973768424, 0.4995906924628342],\n",
       " [0.4998538861621413, 0.49958945832175394],\n",
       " [0.499852822628304, 0.49958822422600635],\n",
       " [0.49985175913616714, 0.49958699017558666],\n",
       " [0.4998506956857262, 0.49958575617048995],\n",
       " [0.4998496322769765, 0.4995845222107114],\n",
       " [0.499848568909913, 0.4995832882962463],\n",
       " [0.4998475055845313, 0.49958205442708975],\n",
       " [0.49984644230082637, 0.499580820603237],\n",
       " [0.4998453790587936, 0.4995795868246832],\n",
       " [0.49984431585842826, 0.4995783530914234],\n",
       " [0.49984325269972546, 0.49957711940345295],\n",
       " [0.4998421895826806, 0.499575885760767],\n",
       " [0.4998411265072888, 0.4995746521633607],\n",
       " [0.4998400634735454, 0.49957341861122934],\n",
       " [0.49983900048144564, 0.49957218510436796],\n",
       " [0.49983793753098477, 0.4995709516427718],\n",
       " [0.49983687462215803, 0.49956971822643614],\n",
       " [0.49983581175496067, 0.49956848485535604],\n",
       " [0.4998347489293879, 0.49956725152952675],\n",
       " [0.49983368614543505, 0.4995660182489435],\n",
       " [0.4998326234030973, 0.4995647850136013],\n",
       " [0.49983156070237006, 0.4995635518234955],\n",
       " [0.4998304980432485, 0.4995623186786212],\n",
       " [0.4998294354257277, 0.4995610855789737],\n",
       " [0.49982837284980314, 0.49955985252454815],\n",
       " [0.49982731031547006, 0.4995586195153397],\n",
       " [0.4998262478227236, 0.4995573865513436],\n",
       " [0.4998251853715591, 0.4995561536325549],\n",
       " [0.4998241229619719, 0.49955492075896896],\n",
       " [0.49982306059395704, 0.49955368793058086],\n",
       " [0.49982199826750995, 0.4995524551473859],\n",
       " [0.49982093598262584, 0.49955122240937916],\n",
       " [0.4998198737393, 0.4995499897165559],\n",
       " [0.49981881153752766, 0.4995487570689113],\n",
       " [0.49981774937730405, 0.4995475244664405],\n",
       " [0.49981668725862455, 0.49954629190913885],\n",
       " [0.4998156251814842, 0.49954505939700133],\n",
       " [0.49981456314587847, 0.49954382693002336],\n",
       " [0.49981350115180256, 0.49954259450819993],\n",
       " [0.49981243919925183, 0.49954136213152633],\n",
       " [0.4998113772882214, 0.49954012979999773],\n",
       " [0.4998103154187065, 0.49953889751360947],\n",
       " [0.49980925359070255, 0.49953766527235655],\n",
       " [0.49980819180420477, 0.49953643307623424],\n",
       " [0.49980713005920835, 0.4995352009252378],\n",
       " [0.49980606835570873, 0.49953396881936224],\n",
       " [0.49980500669370087, 0.49953273675860305],\n",
       " [0.4998039450731804, 0.49953150474295527],\n",
       " [0.49980288349414226, 0.499530272772414],\n",
       " [0.499801821956582, 0.4995290408469746],\n",
       " [0.4998007604604947, 0.4995278089666321],\n",
       " [0.49979969900587573, 0.499526577131382],\n",
       " [0.4997986375927204, 0.4995253453412192],\n",
       " [0.49979757622102383, 0.499524113596139],\n",
       " [0.49979651489078136, 0.4995228818961367],\n",
       " [0.4997954536019883, 0.49952165024120737],\n",
       " [0.4997943923546399, 0.4995204186313463],\n",
       " [0.4997933311487315, 0.4995191870665487],\n",
       " [0.4997922699842582, 0.4995179555468096],\n",
       " [0.4997912088612155, 0.4995167240721244],\n",
       " [0.4997901477795984, 0.4995154926424883],\n",
       " [0.4997890867394025, 0.49951426125789644],\n",
       " [0.49978802574062275, 0.499513029918344],\n",
       " [0.49978696478325463, 0.4995117986238262],\n",
       " [0.49978590386729344, 0.49951056737433835],\n",
       " [0.49978484299273435, 0.4995093361698755]]"
      ]
     },
     "execution_count": 304,
     "metadata": {},
     "output_type": "execute_result"
    }
   ],
   "source": [
    "nnet.rmse_trace[-100:]"
   ]
  },
  {
   "cell_type": "code",
   "execution_count": 305,
   "metadata": {},
   "outputs": [
    {
     "data": {
      "image/png": "[encoded data removed]",
      "text/plain": [
       "<Figure size 640x480 with 1 Axes>"
      ]
     },
     "metadata": {},
     "output_type": "display_data"
    }
   ],
   "source": [
    "# n_epochs = 10000\n",
    "# n_epochs_per_plot = 6000\n",
    "\n",
    "import matplotlib.pyplot as plt\n",
    "\n",
    "# n_epochs = n_epochs_per_plot * len(nnet.rmse_trace)  # Total number of epochs\n",
    "\n",
    "# Generate an array of epoch numbers\n",
    "epochs = np.arange(0, 50000, 1)\n",
    "\n",
    "plt.plot(epochs, nnet.rmse_trace)\n",
    "\n",
    "# Add labels to the axes\n",
    "plt.xlabel('epochs')\n",
    "plt.ylabel('rmse')\n",
    "\n",
    "# Add a title to the plot\n",
    "plt.title('Plot of X versus Y')\n",
    "\n",
    "# Display the plot\n",
    "plt.show()"
   ]
  },
  {
   "cell_type": "code",
   "execution_count": null,
   "metadata": {},
   "outputs": [],
   "source": []
  }
 ],
 "metadata": {
  "kernelspec": {
   "display_name": "Python 3 (ipykernel)",
   "language": "python",
   "name": "python3"
  },
  "language_info": {
   "codemirror_mode": {
    "name": "ipython",
    "version": 3
   },
   "file_extension": ".py",
   "mimetype": "text/x-python",
   "name": "python",
   "nbconvert_exporter": "python",
   "pygments_lexer": "ipython3",
   "version": "3.10.3"
  },
  "toc": {
   "base_numbering": 1,
   "nav_menu": {},
   "number_sections": false,
   "sideBar": true,
   "skip_h1_title": true,
   "title_cell": "Table of Contents",
   "title_sidebar": "Contents",
   "toc_cell": true,
   "toc_position": {
    "height": "calc(100% - 180px)",
    "left": "10px",
    "top": "150px",
    "width": "512px"
   },
   "toc_section_display": true,
   "toc_window_display": false
  }
 },
 "nbformat": 4,
 "nbformat_minor": 4
}
